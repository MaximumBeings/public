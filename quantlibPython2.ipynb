{
 "metadata": {
  "name": ""
 },
 "nbformat": 3,
 "nbformat_minor": 0,
 "worksheets": [
  {
   "cells": [
    {
     "cell_type": "markdown",
     "metadata": {},
     "source": [
      "Introduction to QuantLib - Using Design Patterns in QuantLib Python.\n",
      "\n",
      "Discussion: To be continued. We will spend a while on this section on Fixed Income and Yield Curve. It is going to be very interesting.\n",
      "\n",
      "Source: Introduction to QuantLib by Dimitri Reiswich.\n",
      "\n",
      "Software: QuantLib Python via Docker by Luigi Ballabio."
     ]
    },
    {
     "cell_type": "code",
     "collapsed": false,
     "input": [
      "import QuantLib as ql\n",
      "import pandas as pd"
     ],
     "language": "python",
     "metadata": {},
     "outputs": [],
     "prompt_number": 149
    },
    {
     "cell_type": "code",
     "collapsed": false,
     "input": [
      "interest = ql.InterestRate(0.03,ql.Actual360(),1,1)"
     ],
     "language": "python",
     "metadata": {},
     "outputs": [],
     "prompt_number": 150
    },
    {
     "cell_type": "code",
     "collapsed": false,
     "input": [
      "print interest.discountFactor(10)"
     ],
     "language": "python",
     "metadata": {},
     "outputs": [
      {
       "output_type": "stream",
       "stream": "stdout",
       "text": [
        "0.744093914897\n"
       ]
      }
     ],
     "prompt_number": 151
    },
    {
     "cell_type": "code",
     "collapsed": false,
     "input": [
      "print interest.compoundFactor(5)"
     ],
     "language": "python",
     "metadata": {},
     "outputs": [
      {
       "output_type": "stream",
       "stream": "stdout",
       "text": [
        "1.1592740743\n"
       ]
      }
     ],
     "prompt_number": 152
    },
    {
     "cell_type": "code",
     "collapsed": false,
     "input": [
      "index = ql.EURLibor1M()\n",
      "print index\n",
      "print ''\n",
      "print \"Name: \", index.familyName()\n",
      "print ''\n",
      "print \"BDC: \" , index.businessDayConvention()\n",
      "print ''\n",
      "print \"End of Month Rule? \" , index.endOfMonth()\n",
      "print\n",
      "print \"Tenor: \" ,  index.tenor()\n",
      "print\n",
      "print \"Calendar: \", index.fixingCalendar()\n",
      "print ''\n",
      "print \"Day Counter: \" , index.dayCounter()\n",
      "print ''\n",
      "print \"Currency: \", index.currency()"
     ],
     "language": "python",
     "metadata": {},
     "outputs": [
      {
       "output_type": "stream",
       "stream": "stdout",
       "text": [
        "EURLibor1M Actual/360 index\n",
        "\n",
        "Name:  EURLibor\n",
        "\n",
        "BDC:  1\n",
        "\n",
        "End of Month Rule?  True\n",
        "\n",
        "Tenor:  1M\n",
        "\n",
        "Calendar:  JoinBusinessDays(London stock exchange, TARGET) calendar\n",
        "\n",
        "Day Counter:  Actual/360 day counter\n",
        "\n",
        "Currency:  European Euro\n"
       ]
      }
     ],
     "prompt_number": 153
    },
    {
     "cell_type": "code",
     "collapsed": false,
     "input": [
      "def testingYield1():\n",
      "    dc = ql.ActualActual()\n",
      "    myRate = ql.InterestRate(0.0341, dc, ql.Simple, ql.Annual)\n",
      "    print \"Rate: \", myRate\n",
      "    print ''\n",
      "    d1 = ql.Date(10,ql.September,2009)\n",
      "    d2 = d1 + ql.Period(3,ql.Months)\n",
      "    compFact = myRate.compoundFactor(d1,d2)\n",
      "    print \"Compound Factor: \" , compFact\n",
      "    print ''\n",
      "    print \"Discount Factor: \", myRate.discountFactor(d1,d2)\n",
      "    print ''\n",
      "    print \"Equivalent Rate: \", myRate.equivalentRate( dc, ql.Continuous, ql.Semiannual,d1, d2)\n",
      "    print ''\n",
      "    implRate = ql.InterestRate.impliedRate(compFact, dc, ql.Simple,ql.Annual,d1,d2)\n",
      "    print \"Implied Rate from Comp Fact: \", implRate\n",
      "    \n",
      "\n",
      "testingYield1()"
     ],
     "language": "python",
     "metadata": {},
     "outputs": [
      {
       "output_type": "stream",
       "stream": "stdout",
       "text": [
        "Rate:  3.410000 % Actual/Actual (ISDA) simple compounding\n",
        "\n",
        "Compound Factor:  1.00850164384\n",
        "\n",
        "Discount Factor:  0.991570024811\n",
        "\n",
        "Equivalent Rate:  3.395586 % Actual/Actual (ISDA) continuous compounding\n",
        "\n",
        "Implied Rate from Comp Fact:  3.410000 % Actual/Actual (ISDA) simple compounding\n"
       ]
      }
     ],
     "prompt_number": 154
    },
    {
     "cell_type": "markdown",
     "metadata": {},
     "source": [
      "YIELD CURVE CONSTRUCTION\n",
      "\n",
      "There are various ways to construct a market consistent yield curve. The methodology depends on the liquidity of available market instruments for the corresponding market. Several choices have to be made; the interpolation procedure and the choice of the market instruments have to be specified. QuantLib allows to construct yield curve as a:\n",
      "\n",
      "InterpolatedDiscountCurve: construction given discount factors.\n",
      "\n",
      "InterpolatedZeroCurve: construction given zero coupon bond rates.\n",
      "\n",
      "InterpolatedForwardCurve: construction given forward rates.\n",
      "\n",
      "FittedBondDiscountCurve: construction given coupon bond prices.\n",
      "\n",
      "PiecewiseYieldCurve: piecewise construction given a mixture of market instruments (i.e. deposit rates, FRA/Future rates, swap rates)."
     ]
    },
    {
     "cell_type": "code",
     "collapsed": false,
     "input": [
      "#Construction of a yield curve based on the Reuters discount factors\n",
      "\n",
      "dates = []\n",
      "\n",
      "dfs = []\n",
      "\n",
      "cal = ql.TARGET()\n",
      "\n",
      "today = ql.Date(11,ql.September, 2009)\n",
      "\n",
      "libor = ql.EURLibor3M\n",
      "\n",
      "dc = ql.Actual360()\n",
      "\n",
      "settlementDays = 2\n",
      "\n",
      "settlement = cal.advance(today, settlementDays, ql.Days)\n",
      "\n",
      "dates.append(settlement)\n",
      "dates.append(settlement + ql.Period(1,ql.Days))\n",
      "dates.append(settlement + ql.Period(1,ql.Weeks))\n",
      "dates.append(settlement + ql.Period(1,ql.Months))\n",
      "dates.append(settlement + ql.Period(2,ql.Months))\n",
      "dates.append(settlement + ql.Period(3,ql.Months))\n",
      "dates.append(settlement + ql.Period(6,ql.Months))\n",
      "dates.append(settlement + ql.Period(9,ql.Months))\n",
      "dates.append(settlement + ql.Period(1,ql.Years))\n",
      "dates.append(settlement + ql.Period(1,ql.Years) + ql.Period(3,ql.Months))\n",
      "dates.append(settlement + ql.Period(1,ql.Years) + ql.Period(6,ql.Months))\n",
      "dates.append(settlement + ql.Period(1,ql.Years) + ql.Period(9,ql.Months))\n",
      "dates.append(settlement + ql.Period(2,ql.Years))\n",
      "\n",
      "dfs.append(1.0)\n",
      "dfs.append(0.9999656)\n",
      "dfs.append(0.9999072)\n",
      "dfs.append(0.9996074)\n",
      "dfs.append(0.9990040)\n",
      "dfs.append(0.9981237)\n",
      "dfs.append(0.9951358)\n",
      "dfs.append(0.9929456)\n",
      "dfs.append(0.9899849)\n",
      "dfs.append(0.9861596)\n",
      "dfs.append(0.9815178)\n",
      "dfs.append(0.9752363)\n",
      "dfs.append(0.9680804)\n",
      "\n",
      "\n",
      "tempDate1 = settlement + ql.Period(1, ql.Years) + ql.Period(3, ql.Months)\n",
      "\n",
      "curve = ql.DiscountCurve(dates,dfs,dc,cal)\n",
      "\n",
      "print \"Zero Rate: \", curve.zeroRate(tempDate1, dc, ql.Simple, ql.Annual)\n",
      "print ''\n",
      "print \"Discount: \", curve.discount(tempDate1)\n",
      "print ''\n",
      "\n",
      "tempDate2 = tempDate1 + ql.Period(3, ql.Months)\n",
      "\n",
      "print \"1Y3M-1Y6M Fwd Rate \", curve.forwardRate(tempDate1,tempDate2, dc, ql.Continuous)\n",
      "print ''\n",
      "\n",
      "\n",
      "DateD = curve.dates()\n",
      "DiscountD = curve.discounts()\n",
      "ZeroRateD = list([curve.zeroRate(x, dc,ql.Simple,ql.Annual) for x in dates])\n",
      "forwardRatesD = list([curve.forwardRate(ql.Date(15,9,2009),x,dc,1,1) for x in dates])\n",
      "\n",
      "\n",
      "    \n",
      "d = {'Maturities' : pd.Series(DateD),'Discount_Rates' : pd.Series(DiscountD), 'Zero_Rates' : pd.Series(ZeroRateD)}\n",
      "\n",
      "df = pd.DataFrame(d,columns=['Maturities', 'Discount_Rates','Zero_Rates'])\n",
      "\n",
      "print(df.to_string(index=False))\n",
      "\n",
      "print ''\n",
      "\n",
      "d2 = {'Maturities' : pd.Series(DateD),'Discount_Rates' : pd.Series(DiscountD), \\\n",
      "     'Forward_Rates' : pd.Series(forwardRatesD)}\n",
      "\n",
      "df2 = pd.DataFrame(d2,columns=['Maturities', 'Discount_Rates','Forward_Rates'])\n",
      "\n",
      "print(df2.to_string(index=False))\n"
     ],
     "language": "python",
     "metadata": {},
     "outputs": [
      {
       "output_type": "stream",
       "stream": "stdout",
       "text": [
        "Zero Rate:  1.107998 % Actual/360 simple compounding\n",
        "\n",
        "Discount:  0.9861596\n",
        "\n",
        "1Y3M-1Y6M Fwd Rate  1.887223 % Actual/360 continuous compounding\n",
        "\n",
        "           Maturities  Discount_Rates                                Zero_Rates\n",
        " September 15th, 2009        1.000000  1.238422 % Actual/360 simple compounding\n",
        " September 16th, 2009        0.999966  1.238443 % Actual/360 simple compounding\n",
        " September 22nd, 2009        0.999907  0.477301 % Actual/360 simple compounding\n",
        "   October 15th, 2009        0.999607  0.471305 % Actual/360 simple compounding\n",
        "  November 15th, 2009        0.999004  0.588389 % Actual/360 simple compounding\n",
        "  December 15th, 2009        0.998124  0.743668 % Actual/360 simple compounding\n",
        "     March 15th, 2010        0.995136  0.972194 % Actual/360 simple compounding\n",
        "      June 15th, 2010        0.992946  0.936860 % Actual/360 simple compounding\n",
        " September 15th, 2010        0.989985  0.997784 % Actual/360 simple compounding\n",
        "  December 15th, 2010        0.986160  1.107998 % Actual/360 simple compounding\n",
        "     March 15th, 2011        0.981518  1.241553 % Actual/360 simple compounding\n",
        "      June 15th, 2011        0.975236  1.432806 % Actual/360 simple compounding\n",
        " September 15th, 2011        0.968080  1.626019 % Actual/360 simple compounding\n",
        "\n",
        "           Maturities  Discount_Rates                             Forward_Rates\n",
        " September 15th, 2009        1.000000  1.246121 % Actual/360 Annual compounding\n",
        " September 16th, 2009        0.999966  1.246121 % Actual/360 Annual compounding\n",
        " September 22nd, 2009        0.999907  0.478420 % Actual/360 Annual compounding\n",
        "   October 15th, 2009        0.999607  0.472324 % Actual/360 Annual compounding\n",
        "  November 15th, 2009        0.999004  0.589829 % Actual/360 Annual compounding\n",
        "  December 15th, 2009        0.998124  0.745737 % Actual/360 Annual compounding\n",
        "     March 15th, 2010        0.995136  0.974544 % Actual/360 Annual compounding\n",
        "      June 15th, 2010        0.992946  0.937918 % Actual/360 Annual compounding\n",
        " September 15th, 2010        0.989985  0.997715 % Actual/360 Annual compounding\n",
        "  December 15th, 2010        0.986160  1.106371 % Actual/360 Annual compounding\n",
        "     March 15th, 2011        0.981518  1.237604 % Actual/360 Annual compounding\n",
        "      June 15th, 2011        0.975236  1.424975 % Actual/360 Annual compounding\n",
        " September 15th, 2011        0.968080  1.612653 % Actual/360 Annual compounding\n"
       ]
      }
     ],
     "prompt_number": 155
    },
    {
     "cell_type": "code",
     "collapsed": false,
     "input": [
      "redValue = 100.00\n",
      "\n",
      "\n",
      "bondQuotes = [(ql.Date(17,ql.November,2008),ql.Date(15,ql.November,2011),0.0175,101.53125),\\\n",
      "              (ql.Date(15,ql.November,2002),ql.Date(15,ql.November,2012),0.04,107.8203125),\\\n",
      "              (ql.Date(17,ql.November,2003),ql.Date(15,ql.November,2013),0.0425,109.09375),\\\n",
      "              (ql.Date(15,ql.November,1984),ql.Date(15,ql.November,2014),0.0430,101.8828125),\\\n",
      "              (ql.Date(15,ql.November,2005),ql.Date(15,ql.November,2015),0.045,110.0625),\\\n",
      "              (ql.Date(15,ql.November,2006), ql.Date(15,ql.November,2016),0.04625,110.50),\\\n",
      "              (ql.Date(15,ql.November,2007),ql.Date(15,ql.November,2017),0.0425,107.304688),\\\n",
      "              (ql.Date(22,ql.November,1988), ql.Date(15,ql.November,2018),0.09,144.34375)]\n",
      "\n",
      "dates = []\n",
      "dates.append(ql.Date(15,ql.November,2011))\n",
      "dates.append(ql.Date(15,ql.November,2012))\n",
      "dates.append(ql.Date(15,ql.November,2013))\n",
      "dates.append(ql.Date(15,ql.November,2014))\n",
      "dates.append(ql.Date(15,ql.November,2015))\n",
      "dates.append(ql.Date(15,ql.November,2016))\n",
      "dates.append(ql.Date(15,ql.November,2017))\n",
      "dates.append(ql.Date(15,ql.November,2018))\n",
      "\n",
      "bdc = ql.Unadjusted\n",
      "settlementDays = 1\n",
      "cal = ql.UnitedStates(ql.UnitedStates.GovernmentBond)\n",
      "faceAmount = 100.00\n",
      "today = ql.Date(14,ql.September,2009)\n",
      "\n",
      "bondHelpers = []\n",
      "ql.Settings.instance().evaluationDate= today\n",
      "\n",
      "settlementDate = cal.advance(today, settlementDays, ql.Days)\n",
      "\n",
      "for issue, mat, coupon, mktQuote in bondQuotes:\n",
      "    sch = ql.Schedule(issue,mat, ql.Period(ql.Semiannual), \\\n",
      "                      ql.UnitedStates(ql.UnitedStates.GovernmentBond),\n",
      "                      bdc, bdc, ql.DateGeneration.Backward, False)\n",
      "    bondHelpers.append(ql.FixedRateBondHelper(ql.QuoteHandle(ql.SimpleQuote(mktQuote)), \\\n",
      "                                              settlementDays,\\\n",
      "                                              100.00,\\\n",
      "                                              sch,\\\n",
      "                                              [coupon],\\\n",
      "                                              ql.ActualActual(ql.ActualActual.Bond),\\\n",
      "                                              ql.Unadjusted, 100.00,issue))\n",
      "\n",
      "curve = ql.PiecewiseCubicZero(settlementDate, bondHelpers, ql.ActualActual(ql.ActualActual.Bond))\n",
      "\n",
      "discountD = [curve.discount(x) for x in dates]\n",
      "\n",
      "d2 = {'Maturities' : pd.Series(dates),'Discount_Rates' : pd.Series(discountD)}\n",
      "\n",
      "df2 = pd.DataFrame(d2,columns=['Maturities', 'Discount_Rates'])\n",
      "\n",
      "print(df2.to_string(index=False))\n",
      "    \n",
      "##Comment: You have to choose the instruments carefully.    \n"
     ],
     "language": "python",
     "metadata": {},
     "outputs": [
      {
       "output_type": "stream",
       "stream": "stdout",
       "text": [
        "          Maturities  Discount_Rates\n",
        " November 15th, 2011        0.977933\n",
        " November 15th, 2012        0.954304\n",
        " November 15th, 2013        0.919782\n",
        " November 15th, 2014        0.809691\n",
        " November 15th, 2015        0.844225\n",
        " November 15th, 2016        0.803783\n",
        " November 15th, 2017        0.763378\n",
        " November 15th, 2018        0.721768\n"
       ]
      }
     ],
     "prompt_number": 161
    },
    {
     "cell_type": "code",
     "collapsed": false,
     "input": [],
     "language": "python",
     "metadata": {},
     "outputs": []
    }
   ],
   "metadata": {}
  }
 ]
}

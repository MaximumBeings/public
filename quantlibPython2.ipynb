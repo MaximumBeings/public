{
 "metadata": {
  "name": "",
  "signature": "sha256:dc24b1433d196760d7d46ae67f1eab3903c03e53f0a7b9cc534da9e177fdf083"
 },
 "nbformat": 3,
 "nbformat_minor": 0,
 "worksheets": [
  {
   "cells": [
    {
     "cell_type": "markdown",
     "metadata": {},
     "source": [
      "TOPIC: CALCULATE DISCOUNT FACTORs & FORWARD RATES FROM ZERO RATES IN QUANTLIB PYTHON- This is a conversion of one of the examples from QuantLib.Com in C++ to Python.  Basically, it calculates the discount factors given the zero rates.  This is just a test.  The quantlib library is huge and it takes getting used to.  We have already developed our own model to do the calculation from the ground up but this is just a test.  I will do opposite as well.  That is, given the discount curve calculate the zero rates and the forward rates. They are all transformations of one another.  Now we will go back to the basics again.  See you next time.\n",
      "\n",
      "Source: Quantlib.com - sample codes in c++ by Dimitri Reiswich\n",
      "\n",
      "Software: QuantLib Python via Docker by Luigi Ballabio"
     ]
    },
    {
     "cell_type": "code",
     "collapsed": false,
     "input": [
      "import QuantLib as ql\n",
      "import pandas as pd"
     ],
     "language": "python",
     "metadata": {},
     "outputs": [],
     "prompt_number": 132
    },
    {
     "cell_type": "code",
     "collapsed": false,
     "input": [
      "dates = []\n",
      "yields = []\n",
      "today = ql.Date(16,9,2009)\n",
      "dc = ql.Actual360()\n",
      "settlementDays = 2\n",
      "settlement = today + ql.Period(2,ql.Days)\n",
      "dates.append(settlement)\n",
      "dates.append(settlement + ql.Period(7,ql.Days))\n",
      "dates.append(settlement + ql.Period(30,ql.Days))\n",
      "dates.append(settlement + ql.Period(60,ql.Days))\n",
      "dates.append(settlement + ql.Period(90,ql.Days))\n",
      "dates.append(settlement + ql.Period(180,ql.Days))\n",
      "dates.append(settlement + ql.Period(270,ql.Days))\n",
      "dates.append(settlement + ql.Period(360,ql.Days))\n",
      "dates.append(settlement + ql.Period(450,ql.Days))\n",
      "dates.append(settlement + ql.Period(540,ql.Days))\n",
      "dates.append(settlement + ql.Period(630,ql.Days))\n",
      "dates.append(settlement + ql.Period(720,ql.Days))\n",
      "dates.append(settlement + ql.Period(810,ql.Days))\n",
      "dates.append(settlement + ql.Period(900,ql.Days))\n",
      "dates.append(settlement + ql.Period(990,ql.Days))\n",
      "dates.append(settlement + ql.Period(1080,ql.Days))\n",
      "dates.append(settlement + ql.Period(1170,ql.Days))\n",
      "dates.append(settlement + ql.Period(1260,ql.Days))\n",
      "dates.append(settlement + ql.Period(1350,ql.Days))\n",
      "dates.append(settlement + ql.Period(1440,ql.Days))\n",
      "dates.append(settlement + ql.Period(1530,ql.Days))\n",
      "dates.append(settlement + ql.Period(1620,ql.Days))\n",
      "dates.append(settlement + ql.Period(1710,ql.Days))\n",
      "dates.append(settlement + ql.Period(1800,ql.Days))\n",
      "dates.append(settlement + ql.Period(1890,ql.Days))\n",
      "dates.append(settlement + ql.Period(1980,ql.Days))\n",
      "dates.append(settlement + ql.Period(2070,ql.Days))\n",
      "dates.append(settlement + ql.Period(2160,ql.Days))\n",
      "dates.append(settlement + ql.Period(2250,ql.Days))\n",
      "dates.append(settlement + ql.Period(2340,ql.Days))\n",
      "dates.append(settlement + ql.Period(2430,ql.Days))\n",
      "dates.append(settlement + ql.Period(2520,ql.Days))\n",
      "dates.append(settlement + ql.Period(2610,ql.Days))\n",
      "dates.append(settlement + ql.Period(2700,ql.Days))\n",
      "dates.append(settlement + ql.Period(2790,ql.Days))\n",
      "dates.append(settlement + ql.Period(2880,ql.Days))\n",
      "dates.append(settlement + ql.Period(3060,ql.Days))\n",
      "dates.append(settlement + ql.Period(3240,ql.Days))\n",
      "dates.append(settlement + ql.Period(3600,ql.Days))\n",
      "dates.append(settlement + ql.Period(4320,ql.Days))\n",
      "dates.append(settlement + ql.Period(5400,ql.Days))\n",
      "dates.append(settlement + ql.Period(7200,ql.Days))\n",
      "dates.append(settlement + ql.Period(9000,ql.Days))\n",
      "dates.append(settlement + ql.Period(10800,ql.Days))\n",
      "\n",
      "yields.append(0.0)\n",
      "yields.append(0.2301)\n",
      "yields.append(0.2625)\n",
      "yields.append(0.2811)\n",
      "yields.append(0.3658)\n",
      "yields.append(0.4645)\n",
      "yields.append(0.6024)\n",
      "yields.append(0.7566)\n",
      "yields.append(0.9203)\n",
      "yields.append(1.1001)\n",
      "yields.append(1.2708)\n",
      "yields.append(1.4404)\n",
      "yields.append(1.608)\n",
      "yields.append(1.767)\n",
      "yields.append(1.9183)\n",
      "yields.append(2.0576)\n",
      "yields.append(2.1861)\n",
      "yields.append(2.3089)\n",
      "yields.append(2.4238)\n",
      "yields.append(2.5304)\n",
      "yields.append(2.6293)\n",
      "yields.append(2.7241)\n",
      "yields.append(2.8126)\n",
      "yields.append(2.8944)\n",
      "yields.append(2.9702)\n",
      "yields.append(3.0429)\n",
      "yields.append(3.1114)\n",
      "yields.append(3.1752)\n",
      "yields.append(3.2367)\n",
      "yields.append(3.2964)\n",
      "yields.append(3.3474)\n",
      "yields.append(3.3964)\n",
      "yields.append(3.4422)\n",
      "yields.append(3.4856)\n",
      "yields.append(3.5369)\n",
      "yields.append(3.6045)\n",
      "yields.append(3.6737)\n",
      "yields.append(3.7323)\n",
      "yields.append(3.7861)\n",
      "yields.append(3.9780)\n",
      "yields.append(4.1529)\n",
      "yields.append(4.2651)\n",
      "yields.append(4.3063)\n",
      "yields.append(4.3299)\n"
     ],
     "language": "python",
     "metadata": {},
     "outputs": [],
     "prompt_number": 124
    },
    {
     "cell_type": "code",
     "collapsed": false,
     "input": [
      "yields = [x/100 for x in yields]"
     ],
     "language": "python",
     "metadata": {},
     "outputs": [],
     "prompt_number": 125
    },
    {
     "cell_type": "code",
     "collapsed": false,
     "input": [
      "spotRates = ql.ZeroCurve(dates,yields,dc)"
     ],
     "language": "python",
     "metadata": {},
     "outputs": [],
     "prompt_number": 126
    },
    {
     "cell_type": "code",
     "collapsed": false,
     "input": [
      "dateD = spotRates.dates()\n",
      "\n",
      "discountD = [spotRates.discount(x) for x in dates]\n",
      "\n",
      "\n",
      "k = []\n",
      "for x in range(0,len(dates)):\n",
      "    k.append(spotRates.forwardRate(ql.Date(18,9,2009),dates[x],dc,1,1))  \n"
     ],
     "language": "python",
     "metadata": {},
     "outputs": [],
     "prompt_number": 239
    },
    {
     "cell_type": "code",
     "collapsed": false,
     "input": [
      "rateD = spotRates.zeroRates()"
     ],
     "language": "python",
     "metadata": {},
     "outputs": [],
     "prompt_number": 240
    },
    {
     "cell_type": "code",
     "collapsed": false,
     "input": [
      "forwardD = []\n",
      "for x in k:\n",
      "    forwardD.append(x.rate())"
     ],
     "language": "python",
     "metadata": {},
     "outputs": [],
     "prompt_number": 241
    },
    {
     "cell_type": "code",
     "collapsed": false,
     "input": [
      "d = {'Maturities' : pd.Series(dateD),'Zero_Rates' : pd.Series(rateD), 'Discount_Rates' : pd.Series(discountD), \\\n",
      "     'Forward_Rates' : pd.Series(forwardD)}"
     ],
     "language": "python",
     "metadata": {},
     "outputs": [],
     "prompt_number": 242
    },
    {
     "cell_type": "code",
     "collapsed": false,
     "input": [
      "df = pd.DataFrame(d,columns=['Maturities', 'Zero_Rates', 'Discount_Rates','Forward_Rates'])"
     ],
     "language": "python",
     "metadata": {},
     "outputs": [],
     "prompt_number": 243
    },
    {
     "cell_type": "code",
     "collapsed": false,
     "input": [
      "print(df.to_string(index=False))"
     ],
     "language": "python",
     "metadata": {},
     "outputs": [
      {
       "output_type": "stream",
       "stream": "stdout",
       "text": [
        "           Maturities  Zero_Rates  Discount_Rates  Forward_Rates\n",
        " September 18th, 2009    0.000000        1.000000       0.000012\n",
        " September 25th, 2009    0.002301        0.999955       0.002304\n",
        "   October 18th, 2009    0.002625        0.999781       0.002628\n",
        "  November 17th, 2009    0.002811        0.999532       0.002815\n",
        "  December 17th, 2009    0.003658        0.999086       0.003665\n",
        "     March 17th, 2010    0.004645        0.997680       0.004656\n",
        "      June 15th, 2010    0.006024        0.995492       0.006042\n",
        " September 13th, 2010    0.007566        0.992463       0.007595\n",
        "  December 12th, 2010    0.009203        0.988562       0.009245\n",
        "     March 12th, 2011    0.011001        0.983634       0.011062\n",
        "      June 10th, 2011    0.012708        0.978006       0.012789\n",
        "  September 8th, 2011    0.014404        0.971603       0.014508\n",
        "   December 7th, 2011    0.016080        0.964467       0.016210\n",
        "      March 6th, 2012    0.017670        0.956787       0.017827\n",
        "       June 4th, 2012    0.019183        0.948614       0.019368\n",
        "  September 2nd, 2012    0.020576        0.940139       0.020789\n",
        "   December 1st, 2012    0.021861        0.931417       0.022102\n",
        "      March 1st, 2013    0.023089        0.922368       0.023358\n",
        "       May 30th, 2013    0.024238        0.913116       0.024534\n",
        "    August 28th, 2013    0.025304        0.903738       0.025627\n",
        "  November 26th, 2013    0.026293        0.894272       0.026642\n",
        "  February 24th, 2014    0.027241        0.884631       0.027615\n",
        "       May 25th, 2014    0.028126        0.874941       0.028525\n",
        "    August 23rd, 2014    0.028944        0.865265       0.029367\n",
        "  November 21st, 2014    0.029702        0.855614       0.030148\n",
        "  February 19th, 2015    0.030429        0.845895       0.030897\n",
        "       May 20th, 2015    0.031114        0.836185       0.031603\n",
        "    August 18th, 2015    0.031752        0.826536       0.032261\n",
        "  November 16th, 2015    0.032367        0.816855       0.032897\n",
        "  February 14th, 2016    0.032964        0.807134       0.033513\n",
        "       May 14th, 2016    0.033474        0.797758       0.034041\n",
        "    August 12th, 2016    0.033964        0.788401       0.034547\n",
        "  November 10th, 2016    0.034422        0.779144       0.035021\n",
        "   February 8th, 2017    0.034856        0.769957       0.035471\n",
        "        May 9th, 2017    0.035369        0.760249       0.036002\n",
        "     August 7th, 2017    0.036045        0.749492       0.036702\n",
        "   February 3rd, 2018    0.036737        0.731788       0.037420\n",
        "     August 2nd, 2018    0.037323        0.714690       0.038028\n",
        "      July 28th, 2019    0.037861        0.684813       0.038587\n",
        "      July 17th, 2021    0.039780        0.620419       0.040582\n",
        "       July 1st, 2024    0.041529        0.536368       0.042403\n",
        "       June 5th, 2029    0.042651        0.426126       0.043574\n",
        "       May 10th, 2034    0.043063        0.340761       0.044004\n",
        "     April 14th, 2039    0.043299        0.272813       0.044250\n"
       ]
      }
     ],
     "prompt_number": 244
    },
    {
     "cell_type": "code",
     "collapsed": false,
     "input": [],
     "language": "python",
     "metadata": {},
     "outputs": [],
     "prompt_number": 244
    }
   ],
   "metadata": {}
  }
 ]
}

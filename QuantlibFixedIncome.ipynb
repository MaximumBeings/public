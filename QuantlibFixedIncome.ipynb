{
 "metadata": {
  "name": ""
 },
 "nbformat": 3,
 "nbformat_minor": 0,
 "worksheets": [
  {
   "cells": [
    {
     "cell_type": "markdown",
     "metadata": {},
     "source": [
      "Introduction to QuantLib - Using Design Patterns in QuantLib Python.\n",
      "\n",
      "Discussion: To be continued.  We will spend a while on this section on Fixed Income and Yield Curve.  It is going to be very interesting.\n",
      "\n",
      "Source: Introduction to QuantLib by Dimitri Reiswich\n",
      "\n",
      "Software: QuantLib Python via Docker by Luigi Ballabio"
     ]
    },
    {
     "cell_type": "code",
     "collapsed": false,
     "input": [
      "import QuantLib as ql"
     ],
     "language": "python",
     "metadata": {},
     "outputs": [],
     "prompt_number": 6
    },
    {
     "cell_type": "code",
     "collapsed": false,
     "input": [
      "interest = ql.InterestRate(0.03,ql.Actual360(),1,1)"
     ],
     "language": "python",
     "metadata": {},
     "outputs": [],
     "prompt_number": 7
    },
    {
     "cell_type": "code",
     "collapsed": false,
     "input": [
      "print interest.discountFactor(10)"
     ],
     "language": "python",
     "metadata": {},
     "outputs": [
      {
       "output_type": "stream",
       "stream": "stdout",
       "text": [
        "0.744093914897\n"
       ]
      }
     ],
     "prompt_number": 8
    },
    {
     "cell_type": "code",
     "collapsed": false,
     "input": [
      "print interest.compoundFactor(5)"
     ],
     "language": "python",
     "metadata": {},
     "outputs": [
      {
       "output_type": "stream",
       "stream": "stdout",
       "text": [
        "1.1592740743\n"
       ]
      }
     ],
     "prompt_number": 9
    },
    {
     "cell_type": "code",
     "collapsed": false,
     "input": [
      "index = ql.EURLibor1M()\n",
      "print index\n",
      "print ''\n",
      "print \"Name: \", index.familyName()\n",
      "print ''\n",
      "print \"BDC: \" , index.businessDayConvention()\n",
      "print ''\n",
      "print \"End of Month Rule? \" , index.endOfMonth()\n",
      "print\n",
      "print \"Tenor: \" ,  index.tenor()\n",
      "print\n",
      "print \"Calendar: \", index.fixingCalendar()\n",
      "print ''\n",
      "print \"Day Counter: \" , index.dayCounter()\n",
      "print ''\n",
      "print \"Currency: \", index.currency()"
     ],
     "language": "python",
     "metadata": {},
     "outputs": [
      {
       "output_type": "stream",
       "stream": "stdout",
       "text": [
        "EURLibor1M Actual/360 index\n",
        "\n",
        "Name:  EURLibor\n",
        "\n",
        "BDC:  1\n",
        "\n",
        "End of Month Rule?  True\n",
        "\n",
        "Tenor:  1M\n",
        "\n",
        "Calendar:  JoinBusinessDays(London stock exchange, TARGET) calendar\n",
        "\n",
        "Day Counter:  Actual/360 day counter\n",
        "\n",
        "Currency:  European Euro\n"
       ]
      }
     ],
     "prompt_number": 10
    },
    {
     "cell_type": "code",
     "collapsed": false,
     "input": [],
     "language": "python",
     "metadata": {},
     "outputs": []
    }
   ],
   "metadata": {}
  }
 ]
}

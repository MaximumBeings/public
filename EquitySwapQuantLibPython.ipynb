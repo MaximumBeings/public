{
 "metadata": {
  "name": ""
 },
 "nbformat": 3,
 "nbformat_minor": 0,
 "worksheets": [
  {
   "cells": [
    {
     "cell_type": "markdown",
     "metadata": {},
     "source": [
      "Topic: Pricing & Valuation of Equity Swap.\n",
      "\n",
      "Source:  Pricing and Valuation of Equity Swaps by Don Chance\n",
      "\n",
      "Background: I originally wrote this as a blog post in 2010 and did calculation manually.  So I just decided to convert to Python and where applicable use QuantLib - Python as a helper function."
     ]
    },
    {
     "cell_type": "markdown",
     "metadata": {},
     "source": [
      "CASE STUDY:\n",
      "\n",
      "New Entry llc entered into a 3 year fixed-rate equity swap as follows:\n",
      "\n",
      "Notional is $100M\n",
      "\n",
      "Trade Date: March 31, 2008\n",
      "\n",
      "New Entry llc is the Equity receiver - Pay Fixed\n",
      "\n",
      "The fixed rate is calculated based on market information (See Below).  This is called \"Pricing the Swap\".\n",
      "\n",
      "\n",
      "The days to maturity for these payment dates as of March 31, 2008 are as follows:\n",
      "\n",
      "1. 360 days\n",
      "\n",
      "2. 720 days \n",
      "\n",
      "3. 1080 days\n",
      "\n",
      "\n",
      "\n",
      "The term structure of interest rate (LIBOR) on the payment dates as observed on March 31, 2008 were as follows (spot rates or zero rates):\n",
      "\n",
      "1. 8.00%\n",
      "\n",
      "2. 9.00%\n",
      "\n",
      "3. 10.00% \n",
      "\n",
      "\n",
      "Date Convention: 30/360\n",
      "\n",
      "The stock index \"NASDAQ 1000\" on March 31, 2008 was 1200.  This is a fictitious index used for illustration only.\n",
      "\n",
      "\n",
      "NASDAQ 1000 was 1207.5 on six months later on September 30, 2008.\n",
      "\n",
      "The term structure of interest rate (LIBOR) on the payment dates as observed on September 30 2008 were as follows:\n",
      "\n",
      "1. 180 Days -  8.20% \n",
      "\n",
      "2. 540 Days - 9.40% \n",
      "\n",
      "3. 900 Days - 10.50% \n",
      "\n",
      "\n",
      "Valuation of the Equity Receiver Swap:\n",
      "\n",
      "1. Value of the swap at inception is zero as with any other type of swap.  As you move towards maturity this value changes depending on the volatility of the underlying and changes in interest rate.\n",
      "\n",
      "2.  The \"Fixed Rate\" on the initiation date should be established.\n",
      "\n",
      "\n",
      "\n"
     ]
    },
    {
     "cell_type": "code",
     "collapsed": false,
     "input": [
      "import QuantLib as ql\n",
      "import pandas as pd"
     ],
     "language": "python",
     "metadata": {},
     "outputs": [],
     "prompt_number": 154
    },
    {
     "cell_type": "code",
     "collapsed": false,
     "input": [
      "#First we setup our information and calculate the fixed rate.  There are \n",
      "#many different ways to do it ... the method chosen is for \n",
      "#illustration only\n",
      "\n",
      "dates = []\n",
      "yields = []\n",
      "today = ql.Date(31,3,2008)\n",
      "dc = ql.Thirty360()\n",
      "settlementDays = 2\n",
      "settlement = today + ql.Period(2,ql.Days)\n",
      "dates.append(settlement)\n",
      "dates.append(settlement + ql.Period(360,ql.Days))\n",
      "dates.append(settlement + ql.Period(720,ql.Days))\n",
      "dates.append(settlement + ql.Period(1080,ql.Days))\n",
      "\n",
      "\n",
      "yields.append(0.0)\n",
      "yields.append(8.00)\n",
      "yields.append(9.00)\n",
      "yields.append(10.00)\n",
      "\n",
      "\n",
      "yields = [x/100 for x in yields]\n",
      "\n",
      "spotRates = ql.ZeroCurve(dates,yields,dc)\n",
      "\n",
      "dateD = spotRates.dates()\n",
      "\n",
      "discountD = [spotRates.discount(x) for x in dates]\n",
      "\n",
      "rateD = spotRates.zeroRates()\n",
      "\n",
      "d = {'Maturities' : pd.Series(dateD),'Zero_Rates' : pd.Series(rateD), \\\n",
      "     'Discount_Rates' : pd.Series(discountD)}\n",
      "\n",
      "df = pd.DataFrame(d,columns=['Maturities', 'Zero_Rates', \\\n",
      "                             'Discount_Rates'])\n",
      "\n",
      "print(df.to_string(index=False))\n"
     ],
     "language": "python",
     "metadata": {},
     "outputs": [
      {
       "output_type": "stream",
       "stream": "stdout",
       "text": [
        "       Maturities  Zero_Rates  Discount_Rates\n",
        "  April 2nd, 2008        0.00        1.000000\n",
        " March 28th, 2009        0.08        0.923937\n",
        " March 23rd, 2010        0.09        0.837152\n",
        " March 18th, 2011        0.10        0.743705\n"
       ]
      }
     ],
     "prompt_number": 155
    },
    {
     "cell_type": "markdown",
     "metadata": {},
     "source": [
      "Using the formula below, we can calulcate the swap fixed rate:\n",
      "\n",
      "$$SFR = (1 - B(0, t + n ) )/ (\\sum B(0, t + i)) $$\n",
      "\n",
      "$$ SFR = \\text{The fixed rate on the swap = Price of the swap not the value.} $$\n",
      "\n",
      "$$(1 - B(0, t + n ) ) = \\text{Discount factor on the last payment date.} $$ \n",
      "\n",
      "$$(\\sum B(0, t + i)) = \\text{Sum of discount factors for all payment dates.} $$"
     ]
    },
    {
     "cell_type": "code",
     "collapsed": false,
     "input": [
      "SFR = (1 - 0.743705) / (0.923937 + 0.837152 + 0.743705)\n",
      "\n",
      "print \"Fixed Rate: \" , SFR"
     ],
     "language": "python",
     "metadata": {},
     "outputs": [
      {
       "output_type": "stream",
       "stream": "stdout",
       "text": [
        "Fixed Rate:  0.10232178774\n"
       ]
      }
     ],
     "prompt_number": 156
    },
    {
     "cell_type": "markdown",
     "metadata": {},
     "source": [
      "Thus the fixed payment is 0.10232178774 per $1 of Notional price for the purpose of valuing the swap."
     ]
    },
    {
     "cell_type": "markdown",
     "metadata": {},
     "source": [
      "Then we must determine the discount factors as of September 30, 2008 for 180, 540, 900 days as follows:\n",
      "\n"
     ]
    },
    {
     "cell_type": "code",
     "collapsed": false,
     "input": [
      "dates = []\n",
      "yields = []\n",
      "today = ql.Date(30,9,2008)\n",
      "dc = ql.Thirty360()\n",
      "settlementDays = 2\n",
      "settlement = today + ql.Period(2,ql.Days)\n",
      "dates.append(settlement)\n",
      "dates.append(settlement + ql.Period(180,ql.Days))\n",
      "dates.append(settlement + ql.Period(540,ql.Days))\n",
      "dates.append(settlement + ql.Period(900,ql.Days))\n",
      "\n",
      "\n",
      "yields.append(0.0)\n",
      "yields.append(8.2)\n",
      "yields.append(9.4)\n",
      "yields.append(10.5)\n",
      "\n",
      "\n",
      "yields = [x/100 for x in yields]\n",
      "\n",
      "spotRates = ql.ZeroCurve(dates,yields,dc)\n",
      "\n",
      "dateD = spotRates.dates()\n",
      "\n",
      "discountD = [spotRates.discount(x) for x in dates]\n",
      "\n",
      "rateD = spotRates.zeroRates()\n",
      "\n",
      "d = {'Maturities' : pd.Series(dateD),'Zero_Rates' : pd.Series(rateD), \\\n",
      "     'Discount_Rates' : pd.Series(discountD)}\n",
      "\n",
      "df = pd.DataFrame(d,columns=['Maturities', 'Zero_Rates', \\\n",
      "                             'Discount_Rates'])\n",
      "\n",
      "print(df.to_string(index=False))"
     ],
     "language": "python",
     "metadata": {},
     "outputs": [
      {
       "output_type": "stream",
       "stream": "stdout",
       "text": [
        "        Maturities  Zero_Rates  Discount_Rates\n",
        " October 2nd, 2008       0.000        1.000000\n",
        "  March 31st, 2009       0.082        0.960048\n",
        "  March 26th, 2010       0.094        0.869851\n",
        "  March 21st, 2011       0.105        0.771598\n"
       ]
      }
     ],
     "prompt_number": 157
    },
    {
     "cell_type": "markdown",
     "metadata": {},
     "source": [
      "Valuation of the fixed-rate swap on June 30, 2008:\n",
      "\n",
      "From a fixed-rate receiver perspective:\n",
      "\n",
      "$$V = B(j, t + n) - SFR * (\\sum B(j,t + 1) - (S (j)/S(0)) $$\n",
      "\n",
      "$$ V = \\text{Value of the swap at a point in time.}$$\n",
      "\n",
      "$$B (0, t + n ) = \\text{Discount factor on the last payment date.} $$\n",
      "\n",
      "$$ \\sum B (0, t + i ) = \\text{Sum of discount factors for all payment dates.}$$\n",
      "\n",
      "$$ SFR = \\text{The fixed rate on the swap: Established at the start of the swap.} $$"
     ]
    },
    {
     "cell_type": "code",
     "collapsed": false,
     "input": [
      "V = 1207.25/1200.0 - 0.771598 - 0.10232178774 * (0.960048 + 0.869851 + 0.771598) "
     ],
     "language": "python",
     "metadata": {},
     "outputs": [],
     "prompt_number": 158
    },
    {
     "cell_type": "code",
     "collapsed": false,
     "input": [
      "print \"Value of Equity Swap / $1 Notional Principal: \", V"
     ],
     "language": "python",
     "metadata": {},
     "outputs": [
      {
       "output_type": "stream",
       "stream": "stdout",
       "text": [
        "Value of Equity Swap / $1 Notional Principal:  -0.0317461571736\n"
       ]
      }
     ],
     "prompt_number": 159
    },
    {
     "cell_type": "code",
     "collapsed": false,
     "input": [
      "print \"Therefore, the unrealized loss on a receive equity, pay fixed: \" , \\\n",
      "                \"{:,}\".format(round(V * 100000000.00),3)"
     ],
     "language": "python",
     "metadata": {},
     "outputs": [
      {
       "output_type": "stream",
       "stream": "stdout",
       "text": [
        "Therefore, the unrealized loss on a receive equity, pay fixed:  -3,174,616.0\n"
       ]
      }
     ],
     "prompt_number": 160
    },
    {
     "cell_type": "markdown",
     "metadata": {},
     "source": [
      "Note that the discount factors do not exactly match the one in the source article because of subtle differences in the way the discount factors are generated!!  In order to prove this, I will use one of the modules I created before outside quantlib to calculate the discount factor and you will note the differences.  C++ has more precision than Python unless you use Decimal number format.  But see you next time!!"
     ]
    },
    {
     "cell_type": "code",
     "collapsed": false,
     "input": [
      "tIME = [360, 720, 1080]\n",
      "dc = 360.0\n",
      "rate = [0.08, 0.09, 0.10]\n",
      "discount = []\n",
      "\n",
      "for x in range(len(rate)):\n",
      "    discount.append(1/(1+rate[x] * (tIME[x]/dc)))\n",
      "    \n",
      "import pandas as pd\n",
      "\n",
      "d = {'Time' : pd.Series(tIME),'Zero Rates' : pd.Series(rate),'Disc_Factors' : pd.Series(discount)}\n",
      "\n",
      "df = pd.DataFrame(d,columns=['Time', 'Zero Rates', 'Disc_Factors'])\n",
      "\n",
      "print(df.to_string(index = False))"
     ],
     "language": "python",
     "metadata": {},
     "outputs": [
      {
       "output_type": "stream",
       "stream": "stdout",
       "text": [
        " Time  Zero Rates  Disc_Factors\n",
        "  360        0.08      0.925926\n",
        "  720        0.09      0.847458\n",
        " 1080        0.10      0.769231\n"
       ]
      }
     ],
     "prompt_number": 161
    },
    {
     "cell_type": "code",
     "collapsed": false,
     "input": [
      "#So SWAP Fixed Rate is:\n",
      "\n",
      "SFR = (1 - 0.769231) / (0.925926 + 0.847458 + 0.769231)\n",
      "\n",
      "print \"Fixed Rate: \" , SFR\n"
     ],
     "language": "python",
     "metadata": {},
     "outputs": [
      {
       "output_type": "stream",
       "stream": "stdout",
       "text": [
        "Fixed Rate:  0.0907604965754\n"
       ]
      }
     ],
     "prompt_number": 162
    },
    {
     "cell_type": "code",
     "collapsed": false,
     "input": [
      "#Six Months Later\n",
      "\n",
      "tIME = [180, 540, 900]\n",
      "dc = 360.0\n",
      "rate = [0.082, 0.094, 0.105]\n",
      "discount = []\n",
      "\n",
      "for x in range(len(rate)):\n",
      "    discount.append(1/(1+rate[x] * (tIME[x]/dc)))\n",
      "    \n",
      "import pandas as pd\n",
      "\n",
      "d = {'Time' : pd.Series(tIME),'Zero Rates' : pd.Series(rate),'Disc_Factors' : pd.Series(discount)}\n",
      "\n",
      "df = pd.DataFrame(d,columns=['Time', 'Zero Rates', 'Disc_Factors'])\n",
      "\n",
      "print(df.to_string(index = False))"
     ],
     "language": "python",
     "metadata": {},
     "outputs": [
      {
       "output_type": "stream",
       "stream": "stdout",
       "text": [
        " Time  Zero Rates  Disc_Factors\n",
        "  180       0.082      0.960615\n",
        "  540       0.094      0.876424\n",
        "  900       0.105      0.792079\n"
       ]
      }
     ],
     "prompt_number": 163
    },
    {
     "cell_type": "code",
     "collapsed": false,
     "input": [
      "#Value of the pay fixed, receive equity is therefore:\n",
      "\n",
      "V = 1207.25/1200.0 - 0.792079 - 0.0907604965754 * (0.960615 + 0.876424 + 0.792079) "
     ],
     "language": "python",
     "metadata": {},
     "outputs": [],
     "prompt_number": 164
    },
    {
     "cell_type": "code",
     "collapsed": false,
     "input": [
      "print \"Value of Equity Swap / $1 Notional Principal: \", V"
     ],
     "language": "python",
     "metadata": {},
     "outputs": [
      {
       "output_type": "stream",
       "stream": "stdout",
       "text": [
        "Value of Equity Swap / $1 Notional Principal:  -0.0246573885687\n"
       ]
      }
     ],
     "prompt_number": 165
    },
    {
     "cell_type": "markdown",
     "metadata": {},
     "source": [
      "Note the differences in the answers using QuantLib and Python as a result of \n",
      "differences in the way the discount curve was generated. To be researched later.\n"
     ]
    },
    {
     "cell_type": "code",
     "collapsed": false,
     "input": [],
     "language": "python",
     "metadata": {},
     "outputs": []
    }
   ],
   "metadata": {}
  }
 ]
}

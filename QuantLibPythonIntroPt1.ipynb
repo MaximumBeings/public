{
 "metadata": {
  "name": "",
  "signature": "sha256:a63714d5b573652e4cec338f8d264f9d1e14440ca2d315048232b7057805f320"
 },
 "nbformat": 3,
 "nbformat_minor": 0,
 "worksheets": [
  {
   "cells": [
    {
     "cell_type": "markdown",
     "metadata": {},
     "source": [
      "Source: Introduction to Selected Classes of the QuantLib Library 1 by Dimitiri Reiswich\n",
      "\n",
      "Background:  This is essentially a conversion of the above from C++ to Python.  QuantLib was built in C++ however interfaces to other languages exist.  One of such interfaces is QuantLib Python and essentially allows one to use the library built in C++ in Python via SWIG. However, most of the books, materials and tutorials are only avilable in C++.  The objective of this project is to translate some of the materials from C++ to equivalent syntax in Python starting from the basics."
     ]
    },
    {
     "cell_type": "code",
     "collapsed": false,
     "input": [
      "import QuantLib as ql"
     ],
     "language": "python",
     "metadata": {},
     "outputs": [],
     "prompt_number": 1
    },
    {
     "cell_type": "markdown",
     "metadata": {},
     "source": [
      "TIMEUNITS:\n",
      "\n",
      "Time Units Types (Days, Weeks, Months, Yeard. Hours, Minutes, Seconds\n",
      ", Milliseconds, Microseconds)"
     ]
    },
    {
     "cell_type": "markdown",
     "metadata": {},
     "source": [
      "FREQUENCIES:\n",
      "\n",
      "Frequency\n",
      "Once = 0\n",
      "Annual = 1\n",
      "Semiannual = 2\n",
      "EveryFourthMonth = 3\n",
      "Quarterly = 4\n",
      "Bimonthly = 6\n",
      "Monthly = 12\n",
      "EveryFourthWeek = 13\n",
      "Biweekly = 26\n",
      "Weekly = 52\n",
      "Daily = 365\n",
      "OtherFrequency = 999"
     ]
    },
    {
     "cell_type": "markdown",
     "metadata": {},
     "source": [
      "DATE TYPE/CLASS:\n",
      "\n",
      "To create a date type declare as follows:\n",
      "myDate = ql.Date(Day d, Month m, Year y)\n",
      "\n",
      "You can use the Period class to add or subtract from a date.\n",
      "\n",
      "myPeriod = ql.Period(Integer n, TimeUnits units) or \n",
      "\n",
      "ql.Period(Frequency f)"
     ]
    },
    {
     "cell_type": "code",
     "collapsed": false,
     "input": [
      "#CREATE A DATE CLASS & MANIPULATE IT\n",
      "\n",
      "myDate = ql.Date(12, 8, 2009)\n",
      "print \"myDate is: \", myDate\n",
      "print''\n",
      "\n",
      "myDatePlusOneDay = myDate + 1\n",
      "print \"myDatePlusOneDay is: \", myDatePlusOneDay\n",
      "print ''\n",
      "\n",
      "myDatePlusOneMonth = myDate + ql.Period(5, ql.Months)\n",
      "print \"myDatePlusOneMonth is: \", myDatePlusOneMonth\n",
      "print ''\n",
      "\n",
      "#USING THE PRERIOD CLASS TO MANIPULATE A DATE VARIABLE\n",
      "myDatePlusFiveDays = myDate + ql.Period(5, ql.Days)\n",
      "print \"myDatePlusFiveDays is: \" , myDatePlusFiveDays\n",
      "print\n",
      "\n",
      "myDatePlusFiveWeek = myDate + ql.Period(5, ql.Weeks)\n",
      "print \"myDatePlusFiveWeek is: \" ,myDatePlusFiveWeek\n",
      "print\n",
      "\n",
      "myDatePlusOneQuarter = myDate + ql.Period(ql.Quarterly)\n",
      "print \"myDatePlusOneQuarter is: \" ,myDatePlusOneQuarter"
     ],
     "language": "python",
     "metadata": {},
     "outputs": [
      {
       "output_type": "stream",
       "stream": "stdout",
       "text": [
        "myDate is:  August 12th, 2009\n",
        "\n",
        "myDatePlusOneDay is: "
       ]
      },
      {
       "output_type": "stream",
       "stream": "stdout",
       "text": [
        " August 13th, 2009\n",
        "\n",
        "myDatePlusOneMonth is:  January 12th, 2010\n",
        "\n",
        "myDatePlusFiveDays is:  August 17th, 2009\n",
        "\n",
        "myDatePlusFiveWeek is:  September 16th, 2009\n",
        "\n",
        "myDatePlusOneQuarter is:  November 12th, 2009\n"
       ]
      }
     ],
     "prompt_number": 3
    },
    {
     "cell_type": "code",
     "collapsed": false,
     "input": [
      "myDate + ql.Period(ql.Quarterly)"
     ],
     "language": "python",
     "metadata": {},
     "outputs": [
      {
       "metadata": {},
       "output_type": "pyout",
       "prompt_number": 4,
       "text": [
        "Date(12,11,2009)"
       ]
      }
     ],
     "prompt_number": 4
    },
    {
     "cell_type": "code",
     "collapsed": false,
     "input": [
      "print myDate + ql.Period(ql.Quarterly)"
     ],
     "language": "python",
     "metadata": {},
     "outputs": [
      {
       "output_type": "stream",
       "stream": "stdout",
       "text": [
        "November 12th, 2009\n"
       ]
      }
     ],
     "prompt_number": 5
    },
    {
     "cell_type": "code",
     "collapsed": false,
     "input": [
      "def DateTesting():\n",
      "    myDate = ql.Date(12,ql.August,2015)\n",
      "    print myDate\n",
      "    print ''\n",
      "    myDate = myDate + 1\n",
      "    print myDate\n",
      "    print ''\n",
      "    myDate = myDate + 12 * ql.Days\n",
      "    print myDate\n",
      "    print ''\n",
      "    myDate = myDate - 2 * ql.Months\n",
      "    print myDate\n",
      "    print ''\n",
      "    myDate = myDate + ql.Period(10, ql.Weeks)\n",
      "    print myDate\n",
      "    print\n",
      "    "
     ],
     "language": "python",
     "metadata": {},
     "outputs": [],
     "prompt_number": 43
    },
    {
     "cell_type": "code",
     "collapsed": false,
     "input": [
      "DateTesting()"
     ],
     "language": "python",
     "metadata": {},
     "outputs": [
      {
       "output_type": "stream",
       "stream": "stdout",
       "text": [
        "August 12th, 2015\n",
        "\n",
        "August 13th, 2015\n",
        "\n",
        "August 13th, 2015\n",
        "\n",
        "August 9th, 2015\n",
        "\n",
        "October 18th, 2015\n",
        "\n"
       ]
      }
     ],
     "prompt_number": 44
    },
    {
     "cell_type": "code",
     "collapsed": false,
     "input": [
      "myDate = ql.Date(12,ql.August,2015)\n",
      "\n",
      "print myDate.weekday()\n",
      "print''\n",
      "print myDate.dayOfMonth()\n",
      "print ''\n",
      "print myDate.dayOfYear()\n",
      "print ''\n",
      "print myDate.month()\n",
      "print ''\n",
      "print myDate.year()\n",
      "print ''\n",
      "print myDate.serialNumber()\n",
      "print ''\n"
     ],
     "language": "python",
     "metadata": {},
     "outputs": [
      {
       "output_type": "stream",
       "stream": "stdout",
       "text": [
        "4\n",
        "\n",
        "12\n",
        "\n",
        "224\n",
        "\n",
        "8\n",
        "\n",
        "2015\n",
        "\n",
        "42228\n",
        "\n"
       ]
      }
     ],
     "prompt_number": 65
    },
    {
     "cell_type": "code",
     "collapsed": false,
     "input": [
      "def DateTesting2():\n",
      "    myDate = ql.Date(12,ql.August, 2009)\n",
      "    print \"Original Date: \" , myDate\n",
      "    print \"Weekday: \", myDate.weekday()\n",
      "    print \"Day of Month: \" , myDate.dayOfMonth()\n",
      "    print \"Day of Year: \" , myDate.dayOfYear()\n",
      "    print \"Month: \", myDate.month()\n",
      "    month = myDate.month()\n",
      "    print \"Month via Integer: \", month\n",
      "    print \"Year: \" , myDate.year()\n",
      "    serialNum = myDate.serialNumber()\n",
      "    print \"Serial Number: \" , serialNum\n",
      "    \n",
      "DateTesting2()"
     ],
     "language": "python",
     "metadata": {},
     "outputs": [
      {
       "output_type": "stream",
       "stream": "stdout",
       "text": [
        "Original Date:  August 12th, 2009\n",
        "Weekday:  4\n",
        "Day of Month:  12\n",
        "Day of Year:  224\n",
        "Month:  8\n",
        "Month via Integer:  8\n",
        "Year:  2009\n",
        "Serial Number:  40037\n"
       ]
      }
     ],
     "prompt_number": 71
    },
    {
     "cell_type": "markdown",
     "metadata": {},
     "source": [
      "The QuantLib Date class has some useful static functions, which give general results, such as whether a given year is a leap year or a given date is the end of the month. Currently available functions are:\n",
      "\n",
      "ql.Date.todaysDate()\n",
      "\n",
      "ql.Date.minDate()\n",
      "\n",
      "ql.Date.maxDate()\n",
      "\n",
      "ql.Date.isLeap(2015)\n",
      "\n",
      "ql.Date.isEndOfMonth(Datek)\n",
      "\n",
      "ql.Date.nextWeekday(Datek, Weekday w)\n",
      "\n",
      "ql.nthWeekday(Size n, Weekday w, Month m, Year y)\n",
      "\n"
     ]
    },
    {
     "cell_type": "code",
     "collapsed": false,
     "input": [
      "def DateTesting3():\n",
      "    print \"Today: \" , ql.Date.todaysDate()\n",
      "    print ''\n",
      "    print \"Min Date: \", ql.Date.minDate()\n",
      "    print ''\n",
      "    print \"Max Date: \", ql.Date.maxDate()\n",
      "    print ''\n",
      "    print \"Is Leap: \", ql.Date.isLeap(2015)\n",
      "    print ''\n",
      "    print \"Is Month End: \", ql.Date.endOfMonth(ql.Date(4, ql.August,2015))\n",
      "    print ''\n",
      "    print \"Is Month End: \", ql.Date.endOfMonth(ql.Date(30, ql.September,2015))\n",
      "    print ''\n",
      "    print \"Next WD: \", ql.Date.nextWeekday(ql.Date(4, ql.September,2015),ql.Friday)\n",
      "    print ''\n",
      "    print \"n-th WD: \", ql.Date.nthWeekday(3,ql.Wednesday,ql.September, 2015)\n",
      "    print\n",
      "DateTesting3()"
     ],
     "language": "python",
     "metadata": {},
     "outputs": [
      {
       "output_type": "stream",
       "stream": "stdout",
       "text": [
        " Today:  February 15th, 2016\n",
        "\n",
        "Min Date:  January 1st, 1901\n",
        "\n",
        "Max Date:  December 31st, 2199\n",
        "\n",
        "Is Leap:  False\n",
        "\n",
        "Is Month End:  August 31st, 2015\n",
        "\n",
        "Is Month End:  September 30th, 2015\n",
        "\n",
        "Next WD:  September 4th, 2015\n",
        "\n",
        "n-th WD:  September 16th, 2015\n",
        "\n"
       ]
      }
     ],
     "prompt_number": 83
    },
    {
     "cell_type": "markdown",
     "metadata": {},
     "source": [
      "Some situations may require the setting of the pricing date of an instrument to somepast or future date. This instrument may depend on other instruments, which have to be evaluated at the new date too.  Tom make such a procedure convenient, QuantLib provides a global settings instance, where you can set a global evaluation date.  The current evaluation date can be retrieved via:\n",
      "\n",
      "Settings::instance().evaluationDate()"
     ]
    },
    {
     "cell_type": "code",
     "collapsed": false,
     "input": [
      "def DateTesting4():\n",
      "    \n",
      "    ql.Settings.instance().evaluationDate  = ql.Date(5,1,1995)\n",
      "    print \"Eval Date: \" , ql.Settings.instance().evaluationDate\n",
      "    ql.Settings.instance().evaluationDate = ql.Date(5,5,2016)\n",
      "    myDate = ql.Settings.instance().evaluationDate\n",
      "    print \"New Eval Date: \" , myDate\n",
      "\n",
      "DateTesting4()"
     ],
     "language": "python",
     "metadata": {},
     "outputs": [
      {
       "output_type": "stream",
       "stream": "stdout",
       "text": [
        "Eval Date:  January 5th, 1995\n",
        "New Eval Date:  May 5th, 2016\n"
       ]
      }
     ],
     "prompt_number": 110
    },
    {
     "cell_type": "markdown",
     "metadata": {},
     "source": [
      "CALENDAR\n",
      "\n",
      "One of the crucial objects in the daily business is a calendar for different countries which shows the holidays, business days and weekends for the respective country. In QuantLib, a calendar can be set up easily via\n",
      "\n",
      "Calendar myCal = UnitedKingdom()   ##C++\n",
      "\n",
      "myCal = ql.UnitedKingdom()   #Python\n",
      "\n",
      "for the UK. Various other calendars are available, for example for Germany, United States, Switzerland, Ukraine, Turkey, Japan, India, Canada and Australia. In addition, special exchange calendars can be initialized for several countries.  For example, the FrankFurt Sotock Exchange calendar can be initialized via\n",
      "\n",
      "Calendar myCal = Germany::FrankfurtStockExchange);  #C++\n",
      "\n",
      "myCal = ql.Germany(ql.Germany.FrankfurtStockExchange) #Python\n",
      "\n",
      "The following functions are available:\n",
      "\n",
      "bool isBusinessDay(const Datek d)\n",
      "\n",
      "bool isHoliday(const Datek d)\n",
      "\n",
      "bool isWeekend(Weekday w): is the given weekday part of the weekend?\n",
      "\n",
      "bool isEndOfMonth(const Datek d);  indicates whether the given date is the last business day in the month\n",
      "\n",
      "Date endOfMonth(const Datek d): returns the last business day in the month"
     ]
    },
    {
     "cell_type": "code",
     "collapsed": false,
     "input": [
      "def CalendarTesting():\n",
      "    frankfurtCal = ql.Germany(ql.Germany.FrankfurtStockExchange)\n",
      "    saudiArabCal = ql.SaudiArabia()\n",
      "    nyEve = ql.Date(31,12,2009)\n",
      "    print \"Is Business Day: \" , frankfurtCal.isHoliday(nyEve)\n",
      "    print \"Is Holiday: \" , frankfurtCal.isHoliday(nyEve)\n",
      "    print \"Is Weekend: \", saudiArabCal.isBusinessDay(nyEve)\n",
      "    print \"Is Last BD: \", frankfurtCal.isEndOfMonth(nyEve)\n",
      "    print \"Last BD: \" , saudiArabCal.isHoliday(nyEve)\n",
      "        \n",
      "CalendarTesting()"
     ],
     "language": "python",
     "metadata": {},
     "outputs": [
      {
       "output_type": "stream",
       "stream": "stdout",
       "text": [
        "Is Business Day:  True\n",
        "Is Holiday:  True\n",
        "Is Weekend:  False\n",
        "Is Last BD:  True\n",
        "Last BD:  True\n"
       ]
      }
     ],
     "prompt_number": 202
    },
    {
     "cell_type": "markdown",
     "metadata": {},
     "source": [
      "The calendars are customizable, so you can add and remove holidays in your calendar:\n",
      "\n",
      "void addHoliday(const Datek d) : adds a user specified holiday.\n",
      "\n",
      "void removeHoliday(const Datek d): removes a user specified holiday.\n",
      "\n",
      "Furthermore, a function is provided to return a vector of holidays\n",
      "\n",
      "std::vector<Date> holidayList(const Calendar& calendar, const Date& from, const Date& to, bool includeWeekEnds) : returns a holiday list, including or excluding weekends.   #Seem like this is deprecated.\n",
      "\n",
      "To continue the previous example from function CalendarTesting1(), we can remove the 31st of December as a holiday and add the 30-th, which was the last business day so far.  Example code is given on the next slide."
     ]
    },
    {
     "cell_type": "code",
     "collapsed": false,
     "input": [
      "def CalendarTesting2():\n",
      "    us = ql.UnitedStates()\n",
      "    print us\n",
      "    myDate = ql.Date(24,12,2009)\n",
      "    myDate2 = ql.Date(30,12,2009)\n",
      "    myDate3 = ql.Date(31,12,2009)\n",
      "    \n",
      "    us.addHoliday(myDate2)\n",
      "    us.removeHoliday(myDate3)\n",
      "    \n",
      "    print ''\n",
      "    print \"Is Business Day: \", us.isBusinessDay(myDate2)\n",
      "    print ''\n",
      "    print \"Is Business Day: \", us.isBusinessDay(myDate3)\n",
      "    print ''\n",
      "    print \"Is it a Holiday?: \" ,us.isHoliday(myDate2)\n",
      "    \n",
      "    \n",
      "\n",
      "CalendarTesting2()"
     ],
     "language": "python",
     "metadata": {},
     "outputs": [
      {
       "output_type": "stream",
       "stream": "stdout",
       "text": [
        "US settlement calendar\n",
        "\n",
        "Is Business Day:  False\n",
        "\n",
        "Is Business Day:  True\n",
        "\n",
        "Is it a Holiday?:  True\n"
       ]
      }
     ],
     "prompt_number": 22
    },
    {
     "cell_type": "markdown",
     "metadata": {},
     "source": [
      "Adjusting a date can be necessary, whenever a transaction date falls on a date that is not a business day.  The following Business Day Conventions are available in QuantLib:\n",
      "\n",
      "Following: the transaction date will be the first following dat that is a business day.\n",
      "\n",
      "ModifiedFollowing:  the transaction date will be the first following day that is a business day unless it is in the next month.  In this case it will be the first preceding day that is a business day.\n",
      "\n",
      "Preceding:  the transaction date will be the first preceding day that is a business day.\n",
      "\n",
      "ModifiedPreceding: the transaction date will be the first preceding day that is a business day unless it is in the previous month.  In this case, it will be the first following day that is a business day.\n",
      "\n",
      "Unadjusted.\n",
      "\n",
      "The QuantLib::Calendar functions which perform the business day adjsutments are:\n",
      "\n",
      "Date adjust(const Date&, BusinessDayConvention convetion)\n",
      "\n",
      "Date advance(const Date& date, const Period& period, BusinessDayConvention, bool endOfMonth):  the endOfMonth variable enforces the advanced date to be end of month if the current date is the end of the month.\n",
      "\n",
      "Finally, it is possible to count the business days between two dates with the following function:\n",
      "\n",
      "BigInteger businessDaysBetween(const Date& from, const Date& to, bool includeFirst, bool includeLast):  calculates the business days between from and to including or excluding the initial/final dates.\n",
      "\n",
      "We will demonstrate an example by using United States calendar and the dates Date(31,Oct, 2009).  From the first date, we advance 2 months in the future, which is December 31st.  Since this is a holiday and the next business day is in the next month, we can check the Modified Following conversion.  The Modified Preceding conversion can be checked for January 1st, 2010."
     ]
    },
    {
     "cell_type": "code",
     "collapsed": false,
     "input": [
      "def CalendarTesting3():\n",
      "    us = ql.UnitedStates()\n",
      "    myDate1 = ql.Date(31,10,2009)\n",
      "    myDate2 = ql.Date(1,1,2010)\n",
      "    print \"Date 2 Advanced: \" , us.adjust(myDate2, ql.Preceding)\n",
      "    print ''\n",
      "    print \"Date 2 Advanced: \" , us.adjust(myDate2, ql.ModifiedFollowing)\n",
      "    \n",
      "    mat = ql.Period(2, ql.Months)\n",
      "    print ''\n",
      "    print \"Date 1 Month Advanced: \", us.advance(myDate1, mat,ql.Following,False)\n",
      "    print''\n",
      "    print \"Date 1 Month Advanced: \", us.advance(myDate1,mat,ql.ModifiedFollowing, False)\n",
      "    print''\n",
      "    print \"Business Days Between: \", us.businessDaysBetween(myDate1, myDate2, False, False)\n",
      "    \n",
      "CalendarTesting3()\n",
      "    "
     ],
     "language": "python",
     "metadata": {},
     "outputs": [
      {
       "output_type": "stream",
       "stream": "stdout",
       "text": [
        "Date 2 Advanced:  December 31st, 2009\n",
        "\n",
        "Date 2 Advanced:  January 4th, 2010\n",
        "\n",
        "Date 1 Month Advanced:  December 31st, 2009\n",
        "\n",
        "Date 1 Month Advanced:  December 31st, 2009\n",
        "\n",
        "Business Days Between:  40\n"
       ]
      }
     ],
     "prompt_number": 34
    },
    {
     "cell_type": "markdown",
     "metadata": {},
     "source": [
      "DAYCOUNT CONVENTIONS are crucial in financial markets.  QuantLib offers:\n",
      "\n",
      "Actual360:  Actual/360 day count convention\n",
      "\n",
      "Actual365Fixed: Actual/365(Fixed)\n",
      "\n",
      "ActualActual: Actual/Actual Day Count\n",
      "\n",
      "Business252: Business/252 day count convention\n",
      "    \n",
      "Thirty360: 30/360 Day Count Convention\n",
      "\n",
      "The construction is easily performed via\n",
      "\n",
      "DayCounter myCounter = ActualActual()\n",
      "\n",
      "The other conventions can be constructed equivalently.  The available functions are:\n",
      "    \n",
      "BigInteger dayCount(const Date& d1, const Date& d2)\n",
      "\n",
      "Time yearFraction(const Date&, const Date&)\n",
      "\n",
      "Example code is provided below:"
     ]
    },
    {
     "cell_type": "code",
     "collapsed": false,
     "input": [
      "def dayCounterTesting1():\n",
      "    dc = ql.Actual360()\n",
      "    print dc\n",
      "    myDate1 = ql.Date(1,1,2016)\n",
      "    myDate2 = myDate1 + ql.Period(2, ql.Months)\n",
      "    print\"\"\n",
      "    print \"Days Between myDate1/myDate2:\", dc.dayCount(myDate1,myDate2)\n",
      "    print''\n",
      "    print \"Year Fraction d1/d2: \" , dc.yearFraction(myDate1,myDate2)\n",
      "dayCounterTesting1()\n",
      "    \n",
      "    \n",
      "    \n",
      "    \n",
      "    "
     ],
     "language": "python",
     "metadata": {},
     "outputs": [
      {
       "output_type": "stream",
       "stream": "stdout",
       "text": [
        "Actual/360 day counter\n",
        "\n",
        "Days Between myDate1/myDate2: 60\n",
        "\n",
        "Year Fraction d1/d2:  0.166666666667\n"
       ]
      }
     ],
     "prompt_number": 76
    },
    {
     "cell_type": "markdown",
     "metadata": {},
     "source": [
      "An oftern needed functionality is a schedule of payments, for example for coupon payments of a bond.  The task is to produce a series of dates from a start to an end date following a given frequency (e.g. annual, quarterly).  We might want the dates to follow a certain business day convention.  And we might want the schedule to go backwards (e.g. start the frequency going backwards from the last date).  For example:\n",
      "\n",
      "Today is Date(3,9,2009).  We need a monthly schedule which ends at Date(15,12,2009).  Going forward would produce Date(3,9,2009), Date(3,10,2009(,Date(3,11,2009) and the final date Date(15,12,2009)\n",
      "\n",
      "Going backwards, on a monthly basis, would produce Date(3,9,2009), Date(15,9,2009), Date(15,11,2009).  The difference procedures are given by the DateGeneration object and will now be summarized.\n",
      "\n",
      "Backward:  Backward from termination date to effective date.\n",
      "\n",
      "Forward: Forward from effective date to termination date.\n",
      "\n",
      "Zero:  No intermediate dates between effective date and termination date.\n",
      "\n",
      "ThirdWednesday:  All dates but effective date and termination date are taken to tbe on the third Wednesday of their month (with forward calculation).\n",
      "\n",
      "Twentieth:  All dates but effective date are taken to be the twentieth of their month (used for CDS schedules in emerging markets).  The termination date is also modified.\n",
      "\n",
      "The schedule is initialized by the Schedule class whose constructor is shown on the next slide.\n",
      "\n"
     ]
    },
    {
     "cell_type": "markdown",
     "metadata": {},
     "source": [
      "Schedule(const Date& effectiveDate, const Date& terminationDate, const Period& tenor,\n",
      "         const Calendar& calendar, BusinessDayConvention convention, \n",
      "         BusinessDayConvention terminationDateConvention, \n",
      "         DateGeneration::Rule rule, bool endOfMonth, const Date& firstDate = Date(), \n",
      "         const Date& nextToLastDate = Date())  #C++ Syntax"
     ]
    },
    {
     "cell_type": "markdown",
     "metadata": {},
     "source": [
      "The variables represent the following:\n",
      "\n",
      "effectiveDate, terminationDate: start/end of the schedule\n",
      "\n",
      "tenor: the frequency of the schedule (e.g. every 3 months)\n",
      "\n",
      "terminationDateConvention: allows to specify a special business day convention for the final date.\n",
      "\n",
      "rule: the generation rule as previously discussed.\n",
      "\n",
      "endOfMonth: if the effective date is the end of month, enforce the schedule dates to be end of the month too (termination date excluded).\n",
      "\n",
      "firstDate, nextToLastDate: are optional parameters.  if we generate the schedule forwards, the schedule procedure will start from firstDate and then increase in the given periods from there.  If nextToLastDate is set and we go backwards, the dates will be calculated relative to this date.\n",
      "\n",
      "The Schedule object has various useful functions, we will discuss some of them.\n",
      "\n",
      "Size size(): returns the number of dates\n",
      "\n",
      "const Date& operator[](Size i): returns the date at index i.  Alternatively, there is the function const Date& at (Size i) to do the same thing.\n",
      "\n",
      "Date previousDate(const Date& refDate): returns the previous date in the schedule compared to a reference date.\n",
      "\n",
      "Date nextDate(const Date& refDate): returns the next date in the schedule compared to a reference date.\n",
      "\n",
      "cosnt std::vector<Date>& dates(): returns the whole schedule in a vector."
     ]
    },
    {
     "cell_type": "markdown",
     "metadata": {},
     "source": [
      "The following function sets up a semi-annual schedule beginning on September 30th, 2009 and ending on June 15th, 2012.  We write the date vector and print each of the components:"
     ]
    },
    {
     "cell_type": "code",
     "collapsed": false,
     "input": [
      "def testingSchedule1():\n",
      "    begin = ql.Date(30, ql.September, 2009)\n",
      "    end = ql.Date(15, ql.June, 2012)\n",
      "    jp = ql.Japan()\n",
      "    bdc = ql.Following\n",
      "    myTenor = ql.Period(6, ql.Months)\n",
      "    myRule = ql.DateGeneration.Forward\n",
      "    mySched = ql.Schedule(begin, end,myTenor, jp,bdc,bdc,myRule,True)\n",
      "    finalSched = mySched\n",
      "    \n",
      "    def myPrinter(x):\n",
      "        print''\n",
      "        print(x)\n",
      "    \n",
      "    [myPrinter(x) for x in finalSched]\n",
      "    \n",
      "    \n",
      "testingSchedule1()"
     ],
     "language": "python",
     "metadata": {},
     "outputs": [
      {
       "output_type": "stream",
       "stream": "stdout",
       "text": [
        "\n",
        "September 30th, 2009\n",
        "\n",
        "March 31st, 2010\n",
        "\n",
        "September 30th, 2010\n",
        "\n",
        "March 31st, 2011\n",
        "\n",
        "September 30th, 2011\n",
        "\n",
        "March 30th, 2012\n",
        "\n",
        "June 29th, 2012\n"
       ]
      }
     ],
     "prompt_number": 92
    },
    {
     "cell_type": "code",
     "collapsed": false,
     "input": [
      "def testingSchedule1A():\n",
      "    begin = ql.Date(30, ql.September, 2009)\n",
      "    end = ql.Date(15, ql.June, 2012)\n",
      "    jp = ql.Japan()\n",
      "    bdc = ql.Following\n",
      "    myTenor = ql.Period(6, ql.Months)\n",
      "    myRule = ql.DateGeneration.Backward\n",
      "    mySched = ql.Schedule(begin, end,myTenor, jp,bdc,bdc,myRule,True)\n",
      "    finalSched = mySched\n",
      "    \n",
      "    def myPrinter(x):\n",
      "        print''\n",
      "        print(x)\n",
      "    \n",
      "    [myPrinter(x) for x in finalSched]\n",
      "    \n",
      "    \n",
      "testingSchedule1A()"
     ],
     "language": "python",
     "metadata": {},
     "outputs": [
      {
       "output_type": "stream",
       "stream": "stdout",
       "text": [
        "\n",
        "September 30th, 2009\n",
        "\n",
        "December 15th, 2009\n",
        "\n",
        "June 15th, 2010\n",
        "\n",
        "December 15th, 2010\n",
        "\n",
        "June 15th, 2011\n",
        "\n",
        "December 15th, 2011\n",
        "\n",
        "June 15th, 2012\n"
       ]
      }
     ],
     "prompt_number": 93
    },
    {
     "cell_type": "markdown",
     "metadata": {},
     "source": [
      "Now we test the next and previous date functions.  Suppose today's date is August 3rd, 2010.  We would like to know the next and previous date in the example schedule, relative to today. The code and output is given below:"
     ]
    },
    {
     "cell_type": "code",
     "collapsed": false,
     "input": [
      "def testingSchedule3():\n",
      "    begin = ql.Date(30,ql.September, 2009)\n",
      "    end = ql.Date(15, ql.June, 2012)\n",
      "    jpCal = ql.Japan()\n",
      "    bdC = ql.Following\n",
      "    myTenor = ql.Period(6,ql.Months)\n",
      "    myRule = ql.DateGeneration.Forward\n",
      "    mySched = ql.Schedule(begin, end, myTenor, jpCal, bdC, bdC, myRule, True)\n",
      "    \n",
      "    #Pending Pending\n",
      "    #Implementation of nextDate and previousDate\n",
      "\n",
      "testingSchedule3()"
     ],
     "language": "python",
     "metadata": {},
     "outputs": [],
     "prompt_number": 109
    },
    {
     "cell_type": "markdown",
     "metadata": {},
     "source": [
      "The constructor of the Schedule class is quite complex.  QuantLib provides a MakeSchedule class which generates a schedule more coneniently.  The basic structure of the syntax is as follows:\n",
      "\n",
      "Schedule mySchedule = MakeSchedule(effectiveDate, terminationDate, tenor, calendar, convention.function1().function2()......functionLast();\n",
      "\n",
      "The is an example of the factory patten:  the MakeSchedule class is the factory producing a Schedule object.  The functions can be called in any order such that you do not have to remember in which order the variables are initialized.  An example for a function is withRule(DateGeneration::Rule).  An example setup with MakeSchedule is shown next.\n"
     ]
    },
    {
     "cell_type": "code",
     "collapsed": false,
     "input": [
      "def testingSchedule4():\n",
      "    begin = ql.Date(30,9,2009)\n",
      "    end = ql.Date(15,6,2012)\n",
      "    myCal = ql.Japan()\n",
      "    \n",
      "    bdC = ql.Following\n",
      "    myTenor = ql.Period(6,ql.Months)\n",
      "    #Pending Pending\n",
      "    #Error Module has no MakeSchedule (this option might not been implemented in Python)\n",
      "    #To be revisited\n",
      "testingSchedule4()\n",
      "    "
     ],
     "language": "python",
     "metadata": {},
     "outputs": [],
     "prompt_number": 116
    },
    {
     "cell_type": "markdown",
     "metadata": {},
     "source": [
      "In part we will continue with Design Patterns...Stay tuned!!"
     ]
    }
   ],
   "metadata": {}
  }
 ]
}

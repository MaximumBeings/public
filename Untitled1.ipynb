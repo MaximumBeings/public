{
 "metadata": {
  "name": "Untitled1"
 },
 "nbformat": 3,
 "nbformat_minor": 0,
 "worksheets": [
  {
   "cells": [
    {
     "cell_type": "code",
     "collapsed": false,
     "input": "import pandas as pd",
     "language": "python",
     "metadata": {},
     "outputs": [],
     "prompt_number": 1
    },
    {
     "cell_type": "code",
     "collapsed": false,
     "input": "from tabulate import tabulate",
     "language": "python",
     "metadata": {},
     "outputs": [],
     "prompt_number": 2
    },
    {
     "cell_type": "code",
     "collapsed": false,
     "input": "def bondValuation(principal, coupon_rate, paymentFrequency, mkt_rate, years):\n    coupon_payment = principal * (coupon_rate/100.0)/paymentFrequency\n    n = paymentFrequency * years\n    #declare intermediate variables\n    y = mkt_rate/100.0\n    total = 0.0\n    coupon2 = 0.0\n    principal2 = 0.0\n    dPrin = 0.0\n    subtotal = 0.0\n    total = 0.0\n    coupon_payment_List = []\n    coupon_2_list = []\n    principal_2_list = []\n    dPrin_List = []\n    subtotal_list = []\n    total_list = []\n    final_list = []\n    Maturity = []\n    \n    for x in range(1,n+1,1):\n        coupon2 = coupon_payment/(1+y/paymentFrequency)**x\n        total += coupon2\n        subtotal = dPrin + coupon2\n        if x == n:\n            total += principal/(1+y/paymentFrequency)**x\n            principal2 = principal\n            dPrin = principal/(1+y/paymentFrequency)**x\n            subtotal = dPrin + coupon2\n        \n        coupon_payment_List.append(coupon_payment)\n        Maturity.append(x)\n        coupon_2_list.append(coupon2)\n        principal_2_list.append(principal2)\n        dPrin_List.append(dPrin)\n        subtotal_list.append(subtotal)\n        total_list.append(total)\n        final_list.append(Maturity)\n        final_list.append(coupon_payment_List)\n        final_list.append(coupon_2_list)\n        final_list.append(principal_2_list)\n        final_list.append(dPrin_List)\n        final_list.append(subtotal_list)\n        final_list.append(total_list)\n    \n    return final_list\n        \n#Example call - no commas or Dollar sign in numbers (Principal = 2000, Coupon = 4.00, Payment Frequency = 1, Yield/Mkt Rate = 3.00, Years to Maturity = 12)\nimport pandas as pd\n\nanswer = bondValuation(2000, 4.00, 2, 3.00, 6)\n\nd = {'Maturity' : pd.Series(answer[0]),'Coupon' : pd.Series(answer[1]),'Disc._Coupon' : pd.Series(answer[2]),'Principal' : pd.Series(answer[3]),'Disc._Principal' : pd.Series(answer[4]), \\\n     'Disc._Coup._+_Prin.' : pd.Series(answer[5]), 'Present_Value' : pd.Series(answer[6])}\n\ndf = pd.DataFrame(d,columns=['Maturity','Coupon', 'Disc._Coupon', 'Principal', 'Disc._Principal', 'Disc._Coup._+_Prin.', 'Present_Value'])\nprint\n\n\n#print \"\"\n#print \"BOND CASHFLOW/VALUATION TABLE\"\n#print \"-----------------------------\"\n#print\n#print(df.to_string(index = False))\n\n#from tabulate import tabulate\n\n#print tabulate(df, headers='keys', tablefmt='psql')\n\n#print\n#print\n#print \"The Value of a $\" +  \"{:,.2f}\".format(2000) + \" Bond with a \" +  str(4.00) + \"% coupon rate and a yield of \" + str(3.00) + \"%\"\n#print \"compounded \" + str(2) + \" time(s) per annum\" + \" for \" + str(6) + \" years is: $\" + \"{:,.2f}\".format(answer[6][-1])\n\n",
     "language": "python",
     "metadata": {},
     "outputs": [
      {
       "output_type": "stream",
       "stream": "stdout",
       "text": "\n"
      }
     ],
     "prompt_number": 32
    },
    {
     "cell_type": "code",
     "collapsed": false,
     "input": "\n\n\nprint \"BOND CASHFLOW/VALUATION TABLE\"\nprint \"-----------------------------\"\nprint\nprint tabulate(df, headers='keys', tablefmt='psql', numalign='right')        \n\nprint\nprint\nprint \"The Value of a $\" +  \"{:,.2f}\".format(2000) + \" Bond with a \" +  str(4.00) + \"% coupon rate and a yield of \" + str(3.00) + \"%\" + \" compounded \" + str(2) + \" time(s) per annum\" + \" for \" + str(6) + \" years is: $\" + \"{:,.2f}\".format(answer[6][-1])            ",
     "language": "python",
     "metadata": {},
     "outputs": [
      {
       "output_type": "stream",
       "stream": "stdout",
       "text": "BOND CASHFLOW/VALUATION TABLE\n-----------------------------\n\n+----+------------+----------+----------------+-------------+-------------------+-----------------------+-----------------+\n|    |   Maturity |   Coupon |   Disc._Coupon |   Principal |   Disc._Principal |   Disc._Coup._+_Prin. |   Present_Value |\n|----+------------+----------+----------------+-------------+-------------------+-----------------------+-----------------|\n|  0 |          1 |       40 |        39.4089 |           0 |                 0 |               39.4089 |         39.4089 |\n|  1 |          2 |       40 |        38.8265 |           0 |                 0 |               38.8265 |         78.2353 |\n|  2 |          3 |       40 |        38.2527 |           0 |                 0 |               38.2527 |         116.488 |\n|  3 |          4 |       40 |        37.6874 |           0 |                 0 |               37.6874 |         154.175 |\n|  4 |          5 |       40 |        37.1304 |           0 |                 0 |               37.1304 |         191.306 |\n|  5 |          6 |       40 |        36.5817 |           0 |                 0 |               36.5817 |         227.887 |\n|  6 |          7 |       40 |        36.0411 |           0 |                 0 |               36.0411 |         263.929 |\n|  7 |          8 |       40 |        35.5084 |           0 |                 0 |               35.5084 |         299.437 |\n|  8 |          9 |       40 |        34.9837 |           0 |                 0 |               34.9837 |         334.421 |\n|  9 |         10 |       40 |        34.4667 |           0 |                 0 |               34.4667 |         368.887 |\n| 10 |         11 |       40 |        33.9573 |           0 |                 0 |               33.9573 |         402.845 |\n| 11 |         12 |       40 |        33.4555 |        2000 |           1672.77 |               1706.23 |         2109.08 |\n+----+------------+----------+----------------+-------------+-------------------+-----------------------+-----------------+\n\n\nThe Value of a $2,000.00 Bond with a 4.0% coupon rate and a yield of 3.0% compounded 2 time(s) per annum for 6 years is: $2,109.08\n"
      }
     ],
     "prompt_number": 41
    },
    {
     "cell_type": "code",
     "collapsed": false,
     "input": "",
     "language": "python",
     "metadata": {},
     "outputs": [],
     "prompt_number": 33
    },
    {
     "cell_type": "code",
     "collapsed": false,
     "input": "",
     "language": "python",
     "metadata": {},
     "outputs": []
    }
   ],
   "metadata": {}
  }
 ]
}
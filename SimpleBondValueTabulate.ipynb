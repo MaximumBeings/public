{
 "metadata": {
  "name": ""
 },
 "nbformat": 3,
 "nbformat_minor": 0,
 "worksheets": [
  {
   "cells": [
    {
     "cell_type": "code",
     "collapsed": false,
     "input": [
      "import pandas as pd"
     ],
     "language": "python",
     "metadata": {},
     "outputs": [],
     "prompt_number": 48
    },
    {
     "cell_type": "code",
     "collapsed": false,
     "input": [
      "from tabulate import tabulate"
     ],
     "language": "python",
     "metadata": {},
     "outputs": [],
     "prompt_number": 49
    },
    {
     "cell_type": "code",
     "collapsed": false,
     "input": [
      "def bondValuation(principal, coupon_rate, paymentFrequency, mkt_rate, years):\n",
      "    coupon_payment = principal * (coupon_rate/100.0)/paymentFrequency\n",
      "    n = paymentFrequency * years\n",
      "    #declare variables\n",
      "    y = mkt_rate/100.0\n",
      "    total = 0.0\n",
      "    coupon2 = 0.0\n",
      "    principal2 = 0.0\n",
      "    dPrin = 0.0\n",
      "    subtotal = 0.0\n",
      "    total = 0.0\n",
      "    coupon_payment_List = []\n",
      "    coupon_2_list = []\n",
      "    principal_2_list = []\n",
      "    dPrin_List = []\n",
      "    subtotal_list = []\n",
      "    total_list = []\n",
      "    final_list = []\n",
      "    Maturity = []\n",
      "    \n",
      "    for x in range(1,n+1,1):\n",
      "        coupon2 = coupon_payment/(1+y/paymentFrequency)**x\n",
      "        total += coupon2\n",
      "        subtotal = dPrin + coupon2\n",
      "        if x == n:\n",
      "            total += principal/(1+y/paymentFrequency)**x\n",
      "            principal2 = principal\n",
      "            dPrin = principal/(1+y/paymentFrequency)**x\n",
      "            subtotal = dPrin + coupon2\n",
      "        \n",
      "        coupon_payment_List.append(coupon_payment)\n",
      "        Maturity.append(x)\n",
      "        coupon_2_list.append(coupon2)\n",
      "        principal_2_list.append(principal2)\n",
      "        dPrin_List.append(dPrin)\n",
      "        subtotal_list.append(subtotal)\n",
      "        total_list.append(total)\n",
      "        final_list.append(Maturity)\n",
      "        final_list.append(coupon_payment_List)\n",
      "        final_list.append(coupon_2_list)\n",
      "        final_list.append(principal_2_list)\n",
      "        final_list.append(dPrin_List)\n",
      "        final_list.append(subtotal_list)\n",
      "        final_list.append(total_list)\n",
      "    \n",
      "    return final_list\n",
      "        \n",
      "#Example call - no commas or Dollar sign in numbers (Principal = 2000, Coupon = 4.00, \n",
      "#Payment Frequency = 1, Yield/Mkt Rate = 3.00, Years to Maturity = 12)\n",
      "\n",
      "import pandas as pd\n",
      "\n",
      "answer = bondValuation(2000, 4.00, 2, 3.00, 6)\n",
      "\n",
      "d = {'Time' : pd.Series(answer[0]),'Coupon' : pd.Series(answer[1]),\\\n",
      "     'Disc_Coupon' : pd.Series(answer[2]),'Principal' : pd.Series(answer[3]),\\\n",
      "     'Disc_Principal' : pd.Series(answer[4]), \n",
      "      'PV' : pd.Series(answer[5])}\n",
      "\n",
      "df = pd.DataFrame(d,columns=['Time','Coupon', 'Disc_Coupon', \\\n",
      "                             'Principal', 'Disc_Principal', 'PV'])\n",
      "\n",
      "\n"
     ],
     "language": "python",
     "metadata": {},
     "outputs": [],
     "prompt_number": 58
    },
    {
     "cell_type": "code",
     "collapsed": false,
     "input": [
      "print\n",
      "print \"-----------------------------\"\n",
      "print \"BOND CASHFLOW/VALUATION TABLE\"\n",
      "print \"-----------------------------\"\n",
      "print\n",
      "print tabulate(df, headers='keys', tablefmt='psql', numalign='right')        \n",
      "\n",
      "print\n",
      "print\n",
      "print \"The Value of a $\" +  \"{:,.2f}\".format(2000) + \" bond with a \" +  str(4.00) + \\\n",
      "\"% coupon rate and a yield of \" + str(3.00) + \"%\"\n",
      "print \"compounded \" + str(2) + \" times \\\n",
      "per annum\" + \" for \" + str(6) + \" years is: $\" +\"{:,.2f}\".format(sum(answer[5]))   \n",
      "print\n",
      "print"
     ],
     "language": "python",
     "metadata": {},
     "outputs": [
      {
       "output_type": "stream",
       "stream": "stdout",
       "text": [
        "\n",
        "-----------------------------\n",
        "BOND CASHFLOW/VALUATION TABLE\n",
        "-----------------------------\n",
        "\n",
        "+----+--------+----------+---------------+-------------+------------------+---------+\n",
        "|    |   Time |   Coupon |   Disc_Coupon |   Principal |   Disc_Principal |      PV |\n",
        "|----+--------+----------+---------------+-------------+------------------+---------|\n",
        "|  0 |      1 |       40 |       39.4089 |           0 |                0 | 39.4089 |\n",
        "|  1 |      2 |       40 |       38.8265 |           0 |                0 | 38.8265 |\n",
        "|  2 |      3 |       40 |       38.2527 |           0 |                0 | 38.2527 |\n",
        "|  3 |      4 |       40 |       37.6874 |           0 |                0 | 37.6874 |\n",
        "|  4 |      5 |       40 |       37.1304 |           0 |                0 | 37.1304 |\n",
        "|  5 |      6 |       40 |       36.5817 |           0 |                0 | 36.5817 |\n",
        "|  6 |      7 |       40 |       36.0411 |           0 |                0 | 36.0411 |\n",
        "|  7 |      8 |       40 |       35.5084 |           0 |                0 | 35.5084 |\n",
        "|  8 |      9 |       40 |       34.9837 |           0 |                0 | 34.9837 |\n",
        "|  9 |     10 |       40 |       34.4667 |           0 |                0 | 34.4667 |\n",
        "| 10 |     11 |       40 |       33.9573 |           0 |                0 | 33.9573 |\n",
        "| 11 |     12 |       40 |       33.4555 |        2000 |          1672.77 | 1706.23 |\n",
        "+----+--------+----------+---------------+-------------+------------------+---------+\n",
        "\n",
        "\n",
        "The Value of a $2,000.00 bond with a 4.0% coupon rate and a yield of 3.0%\n",
        "compounded 2 times per annum for 6 years is: $2,109.08\n",
        "\n",
        "\n"
       ]
      }
     ],
     "prompt_number": 59
    },
    {
     "cell_type": "code",
     "collapsed": false,
     "input": [],
     "language": "python",
     "metadata": {},
     "outputs": []
    }
   ],
   "metadata": {}
  }
 ]
}

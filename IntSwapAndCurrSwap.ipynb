{
 "metadata": {
  "name": ""
 },
 "nbformat": 3,
 "nbformat_minor": 0,
 "worksheets": [
  {
   "cells": [
    {
     "cell_type": "markdown",
     "metadata": {},
     "source": [
      "Topic: Forwards, Futures and Swaps:\n",
      "\n",
      "(a) Pricing and Valuation of Interest Rate and Currency Swaps\n",
      "(b) Pricing and Valuation of Commodity Swaps\n",
      "(c) Pricing and Valuation of Equity Swaps\n",
      "(d) A Generalization of the Cost of Carry Forward/Futures Pricing Model\n",
      "(e) Pricing and Valuation of Amortizing Interest Rate Swaps\n",
      "(e) Pricing and Valuation of Adjustable Interest Rate Swaps\n",
      "\n",
      "Sources: Don Chance - Instructional Website\n",
      "and Other Sources\n",
      "\n",
      "Discussion:  Will include the formulae and other background information later.  They are good for building intuition.  I think we have a lot of\n",
      "materials. Enough to write three to four books.  But we are just going to continue doing what we do for now and just keep building the models until it starts getting boring.  Publish one or two books along the way, finish one or two or three or ten thought provoking articles etc.\n",
      "\n",
      "Stay tuned!!"
     ]
    },
    {
     "cell_type": "code",
     "collapsed": false,
     "input": [
      "import datetime\n",
      "import pandas as pd\n",
      "from dateutil.relativedelta import relativedelta\n",
      "from datetime import timedelta\n",
      "import pandas as pd\n",
      "import locale\n",
      "locale.setlocale(locale.LC_ALL, '')"
     ],
     "language": "python",
     "metadata": {},
     "outputs": [
      {
       "metadata": {},
       "output_type": "pyout",
       "prompt_number": 50,
       "text": [
        "'C'"
       ]
      }
     ],
     "prompt_number": 50
    },
    {
     "cell_type": "code",
     "collapsed": false,
     "input": [
      "val_date = datetime.date(2009, 12, 31)\n",
      "mat_date = datetime.date(2011, 9, 30)"
     ],
     "language": "python",
     "metadata": {},
     "outputs": [],
     "prompt_number": 51
    },
    {
     "cell_type": "code",
     "collapsed": false,
     "input": [
      "\n",
      "def DayCount30_360(date2, date1):\n",
      "    factor = (360 * (date2.year - date1.year) + 30 * (date2.month - date1.month) + date2.day - date1.day)/360.0\n",
      "    return factor"
     ],
     "language": "python",
     "metadata": {},
     "outputs": [],
     "prompt_number": 52
    },
    {
     "cell_type": "code",
     "collapsed": false,
     "input": [
      "valuation_date = datetime.date(2016,1,1)\n",
      "\n",
      "#Payment Dates\n",
      "payment_dates = [datetime.date(2016, 12, 31), datetime.date(2017, 12, 31), datetime.date(2018, 12, 31)]\n",
      "\n",
      "#Generate Factors\n",
      "factor = []\n",
      "for x in range(len(payment_dates)):\n",
      "    factor.append(DayCount30_360(payment_dates[x], valuation_date))\n",
      "    \n",
      "print factor\n",
      "    "
     ],
     "language": "python",
     "metadata": {},
     "outputs": [
      {
       "output_type": "stream",
       "stream": "stdout",
       "text": [
        "[1.0, 2.0, 3.0]\n"
       ]
      }
     ],
     "prompt_number": 53
    },
    {
     "cell_type": "code",
     "collapsed": false,
     "input": [
      "rates = [0.08, 0.09, 0.10]"
     ],
     "language": "python",
     "metadata": {},
     "outputs": [],
     "prompt_number": 54
    },
    {
     "cell_type": "code",
     "collapsed": false,
     "input": [
      "discount = []\n",
      "for x in range(len(payment_dates)):\n",
      "    discount.append(1/(1+rates[x] * factor[x]))"
     ],
     "language": "python",
     "metadata": {},
     "outputs": [],
     "prompt_number": 55
    },
    {
     "cell_type": "code",
     "collapsed": false,
     "input": [
      "d = {'Time' : pd.Series(payment_dates),'Zero Rates' : pd.Series(rates),'Factors' : pd.Series(factor),'Disc_Factors' : pd.Series(discount)}\n",
      "\n",
      "df = pd.DataFrame(d,columns=['Time', 'Zero Rates', 'Factors', 'Disc_Factors'])\n",
      "\n",
      "print(df.to_string(index = False))"
     ],
     "language": "python",
     "metadata": {},
     "outputs": [
      {
       "output_type": "stream",
       "stream": "stdout",
       "text": [
        "       Time  Zero Rates  Factors  Disc_Factors\n",
        " 2016-12-31        0.08        1      0.925926\n",
        " 2017-12-31        0.09        2      0.847458\n",
        " 2018-12-31        0.10        3      0.769231\n"
       ]
      }
     ],
     "prompt_number": 56
    },
    {
     "cell_type": "code",
     "collapsed": false,
     "input": [
      "def forwardRateCurve2(rates,payment_dates):\n",
      "    forwardRateCurve2 = []\n",
      "    for x in range(len(rates)):\n",
      "        if x == 0:\n",
      "            forwardRateCurve2.append(rates[0])\n",
      "        else:\n",
      "            a =(1+rates[x]*DayCount30_360(payment_dates[x], valuation_date))\n",
      "            b =(1+rates[x-1]*DayCount30_360(payment_dates[x-1], valuation_date))\n",
      "            c = a / b \n",
      "            d = c - 1\n",
      "            \n",
      "            forwardRateCurve2.append(d)\n",
      "    return forwardRateCurve2\n",
      "\n",
      "forwardRateCurve2 = forwardRateCurve2(rates,payment_dates)"
     ],
     "language": "python",
     "metadata": {},
     "outputs": [],
     "prompt_number": 57
    },
    {
     "cell_type": "code",
     "collapsed": false,
     "input": [
      "d = {'Time' : pd.Series(payment_dates),'Zero Rates' : pd.Series(rates),'Factors' : pd.Series(factor),'Disc_Factors' : pd.Series(discount), \\\n",
      "     'Forward_Rates' : pd.Series(forwardRateCurve2)}\n",
      "\n",
      "df = pd.DataFrame(d,columns=['Time', 'Zero Rates', 'Factors', 'Disc_Factors', 'Forward_Rates'])\n",
      "\n",
      "print(df.to_string(index = False))"
     ],
     "language": "python",
     "metadata": {},
     "outputs": [
      {
       "output_type": "stream",
       "stream": "stdout",
       "text": [
        "       Time  Zero Rates  Factors  Disc_Factors  Forward_Rates\n",
        " 2016-12-31        0.08        1      0.925926       0.080000\n",
        " 2017-12-31        0.09        2      0.847458       0.092593\n",
        " 2018-12-31        0.10        3      0.769231       0.101695\n"
       ]
      }
     ],
     "prompt_number": 58
    },
    {
     "cell_type": "code",
     "collapsed": false,
     "input": [],
     "language": "python",
     "metadata": {},
     "outputs": [],
     "prompt_number": 58
    },
    {
     "cell_type": "code",
     "collapsed": false,
     "input": [],
     "language": "python",
     "metadata": {},
     "outputs": [],
     "prompt_number": 58
    },
    {
     "cell_type": "code",
     "collapsed": false,
     "input": [],
     "language": "python",
     "metadata": {},
     "outputs": []
    }
   ],
   "metadata": {}
  }
 ]
}